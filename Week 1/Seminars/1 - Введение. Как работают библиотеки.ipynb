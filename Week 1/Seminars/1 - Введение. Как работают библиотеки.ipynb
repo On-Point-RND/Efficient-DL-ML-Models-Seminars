{
  "cells": [
    {
      "cell_type": "markdown",
      "id": "01c85f6a",
      "metadata": {
        "id": "01c85f6a"
      },
      "source": [
        "# Эффективный DL\n",
        "## Семинар 1.\n",
        "### Введение. Как работают библиотеки?"
      ]
    },
    {
      "cell_type": "code",
      "execution_count": 1,
      "id": "2ff3cd11",
      "metadata": {
        "id": "2ff3cd11"
      },
      "outputs": [],
      "source": [
        "import torch\n",
        "from torch import nn\n",
        "import torch.nn.functional as F\n",
        "from torch.utils.data import DataLoader\n",
        "from torchvision import datasets\n",
        "from torchvision.transforms import ToTensor\n",
        "import gc"
      ]
    },
    {
      "cell_type": "markdown",
      "id": "1943dbbf",
      "metadata": {
        "id": "1943dbbf"
      },
      "source": [
        "# Как измерить эффективность"
      ]
    },
    {
      "cell_type": "code",
      "execution_count": 2,
      "id": "ee2905fa",
      "metadata": {
        "id": "ee2905fa"
      },
      "outputs": [],
      "source": [
        "device = \"cuda\""
      ]
    },
    {
      "cell_type": "code",
      "execution_count": 3,
      "id": "10cb946d",
      "metadata": {
        "id": "10cb946d"
      },
      "outputs": [],
      "source": [
        "training_data = datasets.FashionMNIST(\n",
        "    root=\"mnist\",\n",
        "    train=True,\n",
        "    download=True,\n",
        "    transform=ToTensor(),\n",
        ")"
      ]
    },
    {
      "cell_type": "code",
      "execution_count": 4,
      "id": "c90a3bcd",
      "metadata": {
        "id": "c90a3bcd"
      },
      "outputs": [],
      "source": [
        "loader = DataLoader(training_data, batch_size=64)"
      ]
    },
    {
      "cell_type": "code",
      "source": [
        "!nvidia-smi"
      ],
      "metadata": {
        "colab": {
          "base_uri": "https://localhost:8080/"
        },
        "id": "uk8s1V0cyfcn",
        "outputId": "6c1793db-0af9-4855-b0a3-c5bfa3c5b38b"
      },
      "id": "uk8s1V0cyfcn",
      "execution_count": 5,
      "outputs": [
        {
          "output_type": "stream",
          "name": "stdout",
          "text": [
            "Mon May  6 17:13:17 2024       \n",
            "+---------------------------------------------------------------------------------------+\n",
            "| NVIDIA-SMI 535.104.05             Driver Version: 535.104.05   CUDA Version: 12.2     |\n",
            "|-----------------------------------------+----------------------+----------------------+\n",
            "| GPU  Name                 Persistence-M | Bus-Id        Disp.A | Volatile Uncorr. ECC |\n",
            "| Fan  Temp   Perf          Pwr:Usage/Cap |         Memory-Usage | GPU-Util  Compute M. |\n",
            "|                                         |                      |               MIG M. |\n",
            "|=========================================+======================+======================|\n",
            "|   0  Tesla T4                       Off | 00000000:00:04.0 Off |                    0 |\n",
            "| N/A   51C    P8              10W /  70W |      0MiB / 15360MiB |      0%      Default |\n",
            "|                                         |                      |                  N/A |\n",
            "+-----------------------------------------+----------------------+----------------------+\n",
            "                                                                                         \n",
            "+---------------------------------------------------------------------------------------+\n",
            "| Processes:                                                                            |\n",
            "|  GPU   GI   CI        PID   Type   Process name                            GPU Memory |\n",
            "|        ID   ID                                                             Usage      |\n",
            "|=======================================================================================|\n",
            "|  No running processes found                                                           |\n",
            "+---------------------------------------------------------------------------------------+\n"
          ]
        }
      ]
    },
    {
      "cell_type": "markdown",
      "id": "f1875c89",
      "metadata": {
        "id": "f1875c89"
      },
      "source": [
        "## Число параметров"
      ]
    },
    {
      "cell_type": "code",
      "execution_count": 6,
      "id": "d86e607f",
      "metadata": {
        "id": "d86e607f"
      },
      "outputs": [],
      "source": [
        "class Net(nn.Module):\n",
        "    def __init__(self):\n",
        "        super(Net, self).__init__()\n",
        "        self.conv1 = nn.Conv2d(1, 32, 3, 1)\n",
        "        self.conv2 = nn.Conv2d(32, 64, 3, 1)\n",
        "        self.dropout1 = nn.Dropout(0.25)\n",
        "        self.dropout2 = nn.Dropout(0.5)\n",
        "        self.fc1 = nn.Linear(9216, 128)\n",
        "        self.fc2 = nn.Linear(128, 10)\n",
        "\n",
        "    def forward(self, x):\n",
        "        x = self.conv1(x)\n",
        "        x = F.relu(x)\n",
        "        x = self.conv2(x)\n",
        "        x = F.relu(x)\n",
        "        x = F.max_pool2d(x, 2)\n",
        "        x = self.dropout1(x)\n",
        "        x = torch.flatten(x, 1)\n",
        "        x = self.fc1(x)\n",
        "        x = F.relu(x)\n",
        "        x = self.dropout2(x)\n",
        "        x = self.fc2(x)\n",
        "        return x"
      ]
    },
    {
      "cell_type": "code",
      "execution_count": 7,
      "id": "a33d0740",
      "metadata": {
        "id": "a33d0740"
      },
      "outputs": [],
      "source": [
        "net = Net()"
      ]
    },
    {
      "cell_type": "code",
      "source": [
        "net.parameters()"
      ],
      "metadata": {
        "colab": {
          "base_uri": "https://localhost:8080/"
        },
        "id": "uiWPEHNQy18I",
        "outputId": "71cf615d-387c-41a0-839d-86bbbb330ad6"
      },
      "id": "uiWPEHNQy18I",
      "execution_count": 8,
      "outputs": [
        {
          "output_type": "execute_result",
          "data": {
            "text/plain": [
              "<generator object Module.parameters at 0x79f0e938ccf0>"
            ]
          },
          "metadata": {},
          "execution_count": 8
        }
      ]
    },
    {
      "cell_type": "code",
      "execution_count": 9,
      "id": "646e24b3",
      "metadata": {
        "id": "646e24b3"
      },
      "outputs": [],
      "source": [
        "param1 = next(net.parameters())"
      ]
    },
    {
      "cell_type": "code",
      "execution_count": 10,
      "id": "86ca0aa8",
      "metadata": {
        "colab": {
          "base_uri": "https://localhost:8080/"
        },
        "id": "86ca0aa8",
        "outputId": "93cbff47-5dca-493e-8f6c-dec86f4c64fe"
      },
      "outputs": [
        {
          "output_type": "execute_result",
          "data": {
            "text/plain": [
              "288"
            ]
          },
          "metadata": {},
          "execution_count": 10
        }
      ],
      "source": [
        "param1.numel()"
      ]
    },
    {
      "cell_type": "code",
      "execution_count": 11,
      "id": "4e1d0f64",
      "metadata": {
        "colab": {
          "base_uri": "https://localhost:8080/"
        },
        "id": "4e1d0f64",
        "outputId": "72bf384d-ce0b-4ebc-9661-cf45a8afdd75"
      },
      "outputs": [
        {
          "output_type": "stream",
          "name": "stdout",
          "text": [
            "total params = 1,199,882\n"
          ]
        }
      ],
      "source": [
        "total_params = sum(p.numel() for p in net.parameters())\n",
        "print(f\"total params = {total_params:,}\")"
      ]
    },
    {
      "cell_type": "markdown",
      "id": "825c9415",
      "metadata": {
        "id": "825c9415"
      },
      "source": [
        "## Использование памяти"
      ]
    },
    {
      "cell_type": "code",
      "execution_count": 12,
      "id": "4c3d8ea1",
      "metadata": {
        "id": "4c3d8ea1"
      },
      "outputs": [],
      "source": [
        "def print_memory():\n",
        "    print(f\"allocated: {torch.cuda.memory_allocated(device=device):,}\")\n",
        "    print(f\" reserved: {torch.cuda.memory_reserved(device=device):,}\")"
      ]
    },
    {
      "cell_type": "code",
      "execution_count": 15,
      "id": "33c88a80",
      "metadata": {
        "colab": {
          "base_uri": "https://localhost:8080/"
        },
        "id": "33c88a80",
        "outputId": "48c0d136-25bf-44f1-83dc-e8c14b759607"
      },
      "outputs": [
        {
          "output_type": "stream",
          "name": "stdout",
          "text": [
            "allocated: 0\n",
            " reserved: 0\n"
          ]
        }
      ],
      "source": [
        "print_memory()"
      ]
    },
    {
      "cell_type": "code",
      "execution_count": 17,
      "id": "accf74d3",
      "metadata": {
        "id": "accf74d3"
      },
      "outputs": [],
      "source": [
        "t = torch.zeros(4096, 4096, device=device)"
      ]
    },
    {
      "cell_type": "code",
      "execution_count": 19,
      "id": "be3bae0f",
      "metadata": {
        "colab": {
          "base_uri": "https://localhost:8080/"
        },
        "id": "be3bae0f",
        "outputId": "9f215d22-1772-4027-af5b-c33539e8d9eb"
      },
      "outputs": [
        {
          "output_type": "stream",
          "name": "stdout",
          "text": [
            "allocated: 67,108,864\n",
            " reserved: 67,108,864\n"
          ]
        }
      ],
      "source": [
        "print_memory()"
      ]
    },
    {
      "cell_type": "code",
      "execution_count": 20,
      "id": "efd2a06f",
      "metadata": {
        "colab": {
          "base_uri": "https://localhost:8080/"
        },
        "id": "efd2a06f",
        "outputId": "f289ffe5-5e78-4e08-f6bb-000a4cffb3d4"
      },
      "outputs": [
        {
          "output_type": "execute_result",
          "data": {
            "text/plain": [
              "338"
            ]
          },
          "metadata": {},
          "execution_count": 20
        }
      ],
      "source": [
        "del t\n",
        "gc.collect()"
      ]
    },
    {
      "cell_type": "code",
      "execution_count": 21,
      "id": "8703e300",
      "metadata": {
        "colab": {
          "base_uri": "https://localhost:8080/"
        },
        "id": "8703e300",
        "outputId": "b11cf907-d056-459c-8de3-614a09bea84a"
      },
      "outputs": [
        {
          "output_type": "stream",
          "name": "stdout",
          "text": [
            "allocated: 0\n",
            " reserved: 67,108,864\n"
          ]
        }
      ],
      "source": [
        "print_memory()"
      ]
    },
    {
      "cell_type": "code",
      "execution_count": 23,
      "id": "289d5e1a",
      "metadata": {
        "id": "289d5e1a"
      },
      "outputs": [],
      "source": [
        "t = torch.zeros(4096, 4096, device=device)"
      ]
    },
    {
      "cell_type": "code",
      "execution_count": 24,
      "id": "a87e06e0",
      "metadata": {
        "colab": {
          "base_uri": "https://localhost:8080/"
        },
        "id": "a87e06e0",
        "outputId": "5c19fec7-b9b9-4abf-9ea6-78463718a910"
      },
      "outputs": [
        {
          "output_type": "stream",
          "name": "stdout",
          "text": [
            "allocated: 67,108,864\n",
            " reserved: 67,108,864\n"
          ]
        }
      ],
      "source": [
        "print_memory()"
      ]
    },
    {
      "cell_type": "code",
      "execution_count": 25,
      "id": "9b294cf0",
      "metadata": {
        "colab": {
          "base_uri": "https://localhost:8080/"
        },
        "id": "9b294cf0",
        "outputId": "6abea089-822a-4b68-b516-880a6744ca1b"
      },
      "outputs": [
        {
          "output_type": "execute_result",
          "data": {
            "text/plain": [
              "496"
            ]
          },
          "metadata": {},
          "execution_count": 25
        }
      ],
      "source": [
        "del t\n",
        "gc.collect()"
      ]
    },
    {
      "cell_type": "code",
      "execution_count": 26,
      "id": "3085fa80",
      "metadata": {
        "colab": {
          "base_uri": "https://localhost:8080/"
        },
        "id": "3085fa80",
        "outputId": "49de116d-e300-42d9-c870-04c79f3190f9"
      },
      "outputs": [
        {
          "output_type": "stream",
          "name": "stdout",
          "text": [
            "allocated: 0\n",
            " reserved: 67,108,864\n"
          ]
        }
      ],
      "source": [
        "print_memory()"
      ]
    },
    {
      "cell_type": "code",
      "execution_count": 27,
      "id": "fe082927",
      "metadata": {
        "id": "fe082927"
      },
      "outputs": [],
      "source": [
        "t = torch.zeros(2096, 4096, device=device)"
      ]
    },
    {
      "cell_type": "code",
      "execution_count": 28,
      "id": "9ce47604",
      "metadata": {
        "colab": {
          "base_uri": "https://localhost:8080/"
        },
        "id": "9ce47604",
        "outputId": "7098e382-d559-4990-b494-45c39b3ffcc0"
      },
      "outputs": [
        {
          "output_type": "stream",
          "name": "stdout",
          "text": [
            "allocated: 34,340,864\n",
            " reserved: 67,108,864\n"
          ]
        }
      ],
      "source": [
        "print_memory()"
      ]
    },
    {
      "cell_type": "code",
      "execution_count": 29,
      "id": "43a7a1a6",
      "metadata": {
        "colab": {
          "base_uri": "https://localhost:8080/"
        },
        "id": "43a7a1a6",
        "outputId": "1dd9a341-7dae-4bb7-d1f9-af9c67221d60"
      },
      "outputs": [
        {
          "output_type": "execute_result",
          "data": {
            "text/plain": [
              "0"
            ]
          },
          "metadata": {},
          "execution_count": 29
        }
      ],
      "source": [
        "del t\n",
        "gc.collect()"
      ]
    },
    {
      "cell_type": "code",
      "execution_count": 30,
      "id": "ea60e037",
      "metadata": {
        "colab": {
          "base_uri": "https://localhost:8080/"
        },
        "id": "ea60e037",
        "outputId": "cc56873b-380c-43e3-8c9b-897485db619b"
      },
      "outputs": [
        {
          "output_type": "stream",
          "name": "stdout",
          "text": [
            "allocated: 0\n",
            " reserved: 67,108,864\n"
          ]
        }
      ],
      "source": [
        "print_memory()"
      ]
    },
    {
      "cell_type": "code",
      "execution_count": 31,
      "id": "0e1a39d0",
      "metadata": {
        "id": "0e1a39d0"
      },
      "outputs": [],
      "source": [
        "t = torch.zeros(5096, 4096, device=device)"
      ]
    },
    {
      "cell_type": "code",
      "execution_count": 32,
      "id": "e3ff284a",
      "metadata": {
        "colab": {
          "base_uri": "https://localhost:8080/"
        },
        "id": "e3ff284a",
        "outputId": "a9aebf29-ce2e-4d10-adb7-db792444c1ed"
      },
      "outputs": [
        {
          "output_type": "stream",
          "name": "stdout",
          "text": [
            "allocated: 83,886,080\n",
            " reserved: 150,994,944\n"
          ]
        }
      ],
      "source": [
        "print_memory()"
      ]
    },
    {
      "cell_type": "code",
      "execution_count": 33,
      "id": "7d469a1b",
      "metadata": {
        "colab": {
          "base_uri": "https://localhost:8080/"
        },
        "id": "7d469a1b",
        "outputId": "10f39c34-d206-4ee5-9d40-542a0cc9af04"
      },
      "outputs": [
        {
          "output_type": "execute_result",
          "data": {
            "text/plain": [
              "150994944"
            ]
          },
          "metadata": {},
          "execution_count": 33
        }
      ],
      "source": [
        "83886080 + 67108864"
      ]
    },
    {
      "cell_type": "code",
      "execution_count": 34,
      "id": "d2060549",
      "metadata": {
        "colab": {
          "base_uri": "https://localhost:8080/"
        },
        "id": "d2060549",
        "outputId": "ccd5e469-73e6-49d6-cf02-112704fb83a8"
      },
      "outputs": [
        {
          "output_type": "execute_result",
          "data": {
            "text/plain": [
              "0"
            ]
          },
          "metadata": {},
          "execution_count": 34
        }
      ],
      "source": [
        "del t\n",
        "gc.collect()"
      ]
    },
    {
      "cell_type": "code",
      "execution_count": 35,
      "id": "84973b59",
      "metadata": {
        "colab": {
          "base_uri": "https://localhost:8080/"
        },
        "id": "84973b59",
        "outputId": "040627d6-834f-4cf5-af49-beaace6ed13e"
      },
      "outputs": [
        {
          "output_type": "stream",
          "name": "stdout",
          "text": [
            "allocated: 0\n",
            " reserved: 150,994,944\n"
          ]
        }
      ],
      "source": [
        "print_memory()"
      ]
    },
    {
      "cell_type": "code",
      "execution_count": 36,
      "id": "51b51479",
      "metadata": {
        "id": "51b51479"
      },
      "outputs": [],
      "source": [
        "torch.cuda.empty_cache()"
      ]
    },
    {
      "cell_type": "code",
      "execution_count": 37,
      "id": "15ceddc9",
      "metadata": {
        "colab": {
          "base_uri": "https://localhost:8080/"
        },
        "id": "15ceddc9",
        "outputId": "f40160e6-e82a-4b2c-fd0c-e742b7f24aa5"
      },
      "outputs": [
        {
          "output_type": "stream",
          "name": "stdout",
          "text": [
            "allocated: 0\n",
            " reserved: 0\n"
          ]
        }
      ],
      "source": [
        "print_memory()"
      ]
    },
    {
      "cell_type": "code",
      "execution_count": 13,
      "id": "e75dffeb",
      "metadata": {
        "id": "e75dffeb"
      },
      "outputs": [],
      "source": [
        "def print_max_memory():\n",
        "    print(f\"allocated: {torch.cuda.max_memory_allocated(device=device):,}\")\n",
        "    print(f\" reserved: {torch.cuda.max_memory_reserved(device=device):,}\")"
      ]
    },
    {
      "cell_type": "code",
      "execution_count": 39,
      "id": "c7646106",
      "metadata": {
        "colab": {
          "base_uri": "https://localhost:8080/"
        },
        "id": "c7646106",
        "outputId": "13fcb947-36ef-4449-c3d9-4f586ef24066"
      },
      "outputs": [
        {
          "output_type": "stream",
          "name": "stdout",
          "text": [
            "allocated: 83,886,080\n",
            " reserved: 150,994,944\n"
          ]
        }
      ],
      "source": [
        "print_max_memory()"
      ]
    },
    {
      "cell_type": "code",
      "execution_count": 40,
      "id": "588e2ef9",
      "metadata": {
        "id": "588e2ef9"
      },
      "outputs": [],
      "source": [
        "torch.cuda.reset_peak_memory_stats(device=device)"
      ]
    },
    {
      "cell_type": "code",
      "execution_count": 41,
      "id": "d071e6e9",
      "metadata": {
        "colab": {
          "base_uri": "https://localhost:8080/"
        },
        "id": "d071e6e9",
        "outputId": "08f0d421-e681-4d59-f5df-14cbb0d838d5"
      },
      "outputs": [
        {
          "output_type": "stream",
          "name": "stdout",
          "text": [
            "allocated: 0\n",
            " reserved: 0\n"
          ]
        }
      ],
      "source": [
        "print_max_memory()"
      ]
    },
    {
      "cell_type": "markdown",
      "id": "2b99ac14",
      "metadata": {
        "id": "2b99ac14"
      },
      "source": [
        "### На практике"
      ]
    },
    {
      "cell_type": "code",
      "execution_count": 14,
      "id": "fa96eab7",
      "metadata": {
        "colab": {
          "base_uri": "https://localhost:8080/"
        },
        "id": "fa96eab7",
        "outputId": "f2ee3e33-3aed-441c-cc1c-63134f164b7b"
      },
      "outputs": [
        {
          "output_type": "stream",
          "name": "stdout",
          "text": [
            "allocated: 0\n",
            " reserved: 0\n"
          ]
        }
      ],
      "source": [
        "print_memory()"
      ]
    },
    {
      "cell_type": "code",
      "source": [
        "print(f\"{total_params * 4:,}\")  # byte per float param"
      ],
      "metadata": {
        "colab": {
          "base_uri": "https://localhost:8080/"
        },
        "id": "abE-gWQR3vc_",
        "outputId": "6d9c15ad-2229-4321-ce0c-4922f795f0f7"
      },
      "id": "abE-gWQR3vc_",
      "execution_count": 15,
      "outputs": [
        {
          "output_type": "stream",
          "name": "stdout",
          "text": [
            "4,799,528\n"
          ]
        }
      ]
    },
    {
      "cell_type": "code",
      "execution_count": 16,
      "id": "b9104e39",
      "metadata": {
        "colab": {
          "base_uri": "https://localhost:8080/"
        },
        "id": "b9104e39",
        "outputId": "9def079a-7109-48ec-f82d-a04b95e7a7f7"
      },
      "outputs": [
        {
          "output_type": "stream",
          "name": "stdout",
          "text": [
            "allocated: 4,801,024\n",
            " reserved: 23,068,672\n"
          ]
        }
      ],
      "source": [
        "net = Net().to(device)\n",
        "print_memory()"
      ]
    },
    {
      "cell_type": "code",
      "execution_count": 17,
      "id": "12d2d57a",
      "metadata": {
        "colab": {
          "base_uri": "https://localhost:8080/"
        },
        "id": "12d2d57a",
        "outputId": "f566588c-3f11-48c5-9dbe-9c99c6558a1f"
      },
      "outputs": [
        {
          "output_type": "stream",
          "name": "stdout",
          "text": [
            "allocated: 4,801,024\n",
            " reserved: 23,068,672\n"
          ]
        }
      ],
      "source": [
        "opt = torch.optim.Adam(net.parameters())\n",
        "print_memory()"
      ]
    },
    {
      "cell_type": "code",
      "execution_count": 18,
      "id": "224fdcd7",
      "metadata": {
        "colab": {
          "base_uri": "https://localhost:8080/"
        },
        "id": "224fdcd7",
        "outputId": "0bb416c4-1952-4690-ff96-68e2bb7281a6"
      },
      "outputs": [
        {
          "output_type": "stream",
          "name": "stdout",
          "text": [
            "allocated: 4,801,024\n",
            " reserved: 23,068,672\n"
          ]
        }
      ],
      "source": [
        "loss_fn = nn.CrossEntropyLoss()\n",
        "print_memory()"
      ]
    },
    {
      "cell_type": "code",
      "execution_count": 19,
      "id": "2cfe9f50",
      "metadata": {
        "colab": {
          "base_uri": "https://localhost:8080/"
        },
        "id": "2cfe9f50",
        "outputId": "f0c0da7c-a156-4250-821f-cce6192dc261"
      },
      "outputs": [
        {
          "output_type": "stream",
          "name": "stdout",
          "text": [
            "allocated: 5,002,240\n",
            " reserved: 23,068,672\n"
          ]
        }
      ],
      "source": [
        "data, label = next(iter(loader))\n",
        "data = data.to(device)\n",
        "label = label.to(device)\n",
        "print_memory()"
      ]
    },
    {
      "cell_type": "code",
      "source": [
        "with torch.no_grad():\n",
        "    pred = net(data)\n",
        "\n",
        "print_memory()"
      ],
      "metadata": {
        "colab": {
          "base_uri": "https://localhost:8080/"
        },
        "id": "DePiM8xZ5cbC",
        "outputId": "6c29895f-8f6d-4d0e-f122-d8ec201f67c5"
      },
      "id": "DePiM8xZ5cbC",
      "execution_count": 20,
      "outputs": [
        {
          "output_type": "stream",
          "name": "stdout",
          "text": [
            "allocated: 13,524,480\n",
            " reserved: 44,040,192\n"
          ]
        }
      ]
    },
    {
      "cell_type": "code",
      "execution_count": 21,
      "id": "0ef38809",
      "metadata": {
        "colab": {
          "base_uri": "https://localhost:8080/"
        },
        "id": "0ef38809",
        "outputId": "6806015a-2c55-42f7-b6bf-758c96ad8378"
      },
      "outputs": [
        {
          "output_type": "stream",
          "name": "stdout",
          "text": [
            "allocated: 36,898,816\n",
            " reserved: 65,011,712\n"
          ]
        }
      ],
      "source": [
        "pred = net(data)\n",
        "print_memory()"
      ]
    },
    {
      "cell_type": "code",
      "execution_count": 22,
      "id": "fe0aac86",
      "metadata": {
        "colab": {
          "base_uri": "https://localhost:8080/"
        },
        "id": "fe0aac86",
        "outputId": "1d3ba756-b5ed-4ee7-97c1-09f36fb4e69d"
      },
      "outputs": [
        {
          "output_type": "stream",
          "name": "stdout",
          "text": [
            "allocated: 36,899,840\n",
            " reserved: 65,011,712\n"
          ]
        }
      ],
      "source": [
        "loss = loss_fn(pred, label)\n",
        "print_memory()"
      ]
    },
    {
      "cell_type": "code",
      "execution_count": 23,
      "id": "39b8fc47",
      "metadata": {
        "colab": {
          "base_uri": "https://localhost:8080/"
        },
        "id": "39b8fc47",
        "outputId": "d92f81ab-c8b6-4a3a-911a-44e6931fa701"
      },
      "outputs": [
        {
          "output_type": "stream",
          "name": "stdout",
          "text": [
            "allocated: 36,899,840\n",
            " reserved: 65,011,712\n"
          ]
        }
      ],
      "source": [
        "opt.zero_grad()\n",
        "print_memory()"
      ]
    },
    {
      "cell_type": "code",
      "execution_count": 24,
      "id": "c8dbbfb3",
      "metadata": {
        "colab": {
          "base_uri": "https://localhost:8080/"
        },
        "id": "c8dbbfb3",
        "outputId": "d90bece4-bc6f-4bb7-8c5d-b5cb96937f10"
      },
      "outputs": [
        {
          "output_type": "stream",
          "name": "stdout",
          "text": [
            "allocated: 26,845,696\n",
            " reserved: 140,509,184\n"
          ]
        }
      ],
      "source": [
        "loss.backward()\n",
        "print_memory()"
      ]
    },
    {
      "cell_type": "code",
      "execution_count": 25,
      "id": "5afac63c",
      "metadata": {
        "colab": {
          "base_uri": "https://localhost:8080/"
        },
        "id": "5afac63c",
        "outputId": "a2647ba6-3b5e-4621-edce-631c62aa8446"
      },
      "outputs": [
        {
          "output_type": "stream",
          "name": "stdout",
          "text": [
            "allocated: 37,103,104\n",
            " reserved: 140,509,184\n"
          ]
        }
      ],
      "source": [
        "opt.step()\n",
        "print_memory()"
      ]
    },
    {
      "cell_type": "code",
      "execution_count": 26,
      "id": "5200888b",
      "metadata": {
        "colab": {
          "base_uri": "https://localhost:8080/"
        },
        "id": "5200888b",
        "outputId": "a3446fb0-9a0c-4c24-f80e-f8e63780f828"
      },
      "outputs": [
        {
          "output_type": "stream",
          "name": "stdout",
          "text": [
            "Mon May  6 17:22:27 2024       \n",
            "+---------------------------------------------------------------------------------------+\n",
            "| NVIDIA-SMI 535.104.05             Driver Version: 535.104.05   CUDA Version: 12.2     |\n",
            "|-----------------------------------------+----------------------+----------------------+\n",
            "| GPU  Name                 Persistence-M | Bus-Id        Disp.A | Volatile Uncorr. ECC |\n",
            "| Fan  Temp   Perf          Pwr:Usage/Cap |         Memory-Usage | GPU-Util  Compute M. |\n",
            "|                                         |                      |               MIG M. |\n",
            "|=========================================+======================+======================|\n",
            "|   0  Tesla T4                       Off | 00000000:00:04.0 Off |                    0 |\n",
            "| N/A   53C    P0              28W /  70W |    291MiB / 15360MiB |      0%      Default |\n",
            "|                                         |                      |                  N/A |\n",
            "+-----------------------------------------+----------------------+----------------------+\n",
            "                                                                                         \n",
            "+---------------------------------------------------------------------------------------+\n",
            "| Processes:                                                                            |\n",
            "|  GPU   GI   CI        PID   Type   Process name                            GPU Memory |\n",
            "|        ID   ID                                                             Usage      |\n",
            "|=======================================================================================|\n",
            "+---------------------------------------------------------------------------------------+\n"
          ]
        }
      ],
      "source": [
        "!nvidia-smi"
      ]
    },
    {
      "cell_type": "markdown",
      "id": "fe153024",
      "metadata": {
        "id": "fe153024"
      },
      "source": [
        "## Время"
      ]
    },
    {
      "cell_type": "code",
      "source": [
        "# bad-bad\n",
        "\n",
        "import time\n",
        "tic = time.time()\n",
        "pred = net(data)\n",
        "toc = time.time()\n",
        "(toc - tic) * 1000"
      ],
      "metadata": {
        "colab": {
          "base_uri": "https://localhost:8080/"
        },
        "id": "Um-2Zaht72Ef",
        "outputId": "ed5f129b-f9b3-49ad-95be-1d233b731134"
      },
      "id": "Um-2Zaht72Ef",
      "execution_count": 32,
      "outputs": [
        {
          "output_type": "execute_result",
          "data": {
            "text/plain": [
              "2.01416015625"
            ]
          },
          "metadata": {},
          "execution_count": 32
        }
      ]
    },
    {
      "cell_type": "code",
      "source": [
        "# bad\n",
        "\n",
        "import time\n",
        "tic = time.perf_counter()\n",
        "pred = net(data)\n",
        "toc = time.perf_counter()\n",
        "(toc - tic) * 1000"
      ],
      "metadata": {
        "colab": {
          "base_uri": "https://localhost:8080/"
        },
        "id": "i0dCvy5A71-t",
        "outputId": "44463041-066c-4c8b-e5bc-5d23316b50ed"
      },
      "id": "i0dCvy5A71-t",
      "execution_count": 33,
      "outputs": [
        {
          "output_type": "execute_result",
          "data": {
            "text/plain": [
              "2.1640119998664886"
            ]
          },
          "metadata": {},
          "execution_count": 33
        }
      ]
    },
    {
      "cell_type": "code",
      "execution_count": 34,
      "id": "d0a99362",
      "metadata": {
        "colab": {
          "base_uri": "https://localhost:8080/"
        },
        "id": "d0a99362",
        "outputId": "77fb42cb-474e-46d2-a8f2-d576e906e527"
      },
      "outputs": [
        {
          "output_type": "stream",
          "name": "stdout",
          "text": [
            "822 µs ± 2.18 µs per loop (mean ± std. dev. of 7 runs, 1000 loops each)\n"
          ]
        }
      ],
      "source": [
        "# still bad, but closer\n",
        "\n",
        "%%timeit\n",
        "\n",
        "pred = net(data)"
      ]
    },
    {
      "cell_type": "code",
      "source": [
        "print_memory()"
      ],
      "metadata": {
        "colab": {
          "base_uri": "https://localhost:8080/"
        },
        "id": "DeQrzSoD9RE_",
        "outputId": "1735aa58-9eac-4b42-fa20-00142768ca83"
      },
      "id": "DeQrzSoD9RE_",
      "execution_count": 35,
      "outputs": [
        {
          "output_type": "stream",
          "name": "stdout",
          "text": [
            "allocated: 59,819,520\n",
            " reserved: 165,675,008\n"
          ]
        }
      ]
    },
    {
      "cell_type": "code",
      "execution_count": 36,
      "id": "d041f2e0",
      "metadata": {
        "colab": {
          "base_uri": "https://localhost:8080/"
        },
        "id": "d041f2e0",
        "outputId": "d4eb7d05-b468-485b-d659-364c2e4166d2"
      },
      "outputs": [
        {
          "output_type": "stream",
          "name": "stdout",
          "text": [
            "888 µs ± 2.2 µs per loop (mean ± std. dev. of 7 runs, 1000 loops each)\n"
          ]
        }
      ],
      "source": [
        "# net forward + GPU -> CPU data transfer\n",
        "\n",
        "%%timeit\n",
        "\n",
        "pred = net(data)\n",
        "pred.cpu()"
      ]
    },
    {
      "cell_type": "code",
      "execution_count": 38,
      "id": "506c7965",
      "metadata": {
        "colab": {
          "base_uri": "https://localhost:8080/"
        },
        "id": "506c7965",
        "outputId": "e4d48e1d-e099-452c-8959-e9a7c2ab89b7"
      },
      "outputs": [
        {
          "output_type": "stream",
          "name": "stdout",
          "text": [
            "884 µs ± 1.66 µs per loop (mean ± std. dev. of 7 runs, 1000 loops each)\n"
          ]
        }
      ],
      "source": [
        "# right way but dirty forward\n",
        "\n",
        "%%timeit\n",
        "\n",
        "pred = net(data)\n",
        "torch.cuda.synchronize()"
      ]
    },
    {
      "cell_type": "code",
      "source": [
        "torch.set_grad_enabled(False)"
      ],
      "metadata": {
        "colab": {
          "base_uri": "https://localhost:8080/"
        },
        "id": "Ff_sEIBg-jC-",
        "outputId": "97b55944-6388-4176-fefe-fb9dc52a6af8"
      },
      "id": "Ff_sEIBg-jC-",
      "execution_count": 39,
      "outputs": [
        {
          "output_type": "execute_result",
          "data": {
            "text/plain": [
              "<torch.autograd.grad_mode.set_grad_enabled at 0x79f06bc4a770>"
            ]
          },
          "metadata": {},
          "execution_count": 39
        }
      ]
    },
    {
      "cell_type": "code",
      "source": [
        "# clean forward\n",
        "\n",
        "%%timeit\n",
        "\n",
        "pred = net(data)\n",
        "torch.cuda.synchronize()"
      ],
      "metadata": {
        "colab": {
          "base_uri": "https://localhost:8080/"
        },
        "id": "-KXMvzU_-dCo",
        "outputId": "66329958-c353-4bbd-c755-bb6e583fefae"
      },
      "id": "-KXMvzU_-dCo",
      "execution_count": 40,
      "outputs": [
        {
          "output_type": "stream",
          "name": "stdout",
          "text": [
            "879 µs ± 1.98 µs per loop (mean ± std. dev. of 7 runs, 1000 loops each)\n"
          ]
        }
      ]
    },
    {
      "cell_type": "code",
      "source": [
        "torch.set_grad_enabled(True)"
      ],
      "metadata": {
        "colab": {
          "base_uri": "https://localhost:8080/"
        },
        "id": "bfFt2dN7-wSc",
        "outputId": "f9260972-7c36-44b4-8a33-c0b245743c0f"
      },
      "id": "bfFt2dN7-wSc",
      "execution_count": 41,
      "outputs": [
        {
          "output_type": "execute_result",
          "data": {
            "text/plain": [
              "<torch.autograd.grad_mode.set_grad_enabled at 0x79f06bc4a470>"
            ]
          },
          "metadata": {},
          "execution_count": 41
        }
      ]
    },
    {
      "cell_type": "code",
      "source": [
        "# full cycle\n",
        "\n",
        "%%timeit\n",
        "\n",
        "pred = net(data)\n",
        "loss = loss_fn(pred, label)\n",
        "loss.backward()\n",
        "opt.step()\n",
        "torch.cuda.synchronize()"
      ],
      "metadata": {
        "colab": {
          "base_uri": "https://localhost:8080/"
        },
        "id": "MbHrb9VH-1zm",
        "outputId": "fcccaae7-d00e-48cd-e6cb-da0b4d6fce8a"
      },
      "id": "MbHrb9VH-1zm",
      "execution_count": 42,
      "outputs": [
        {
          "output_type": "stream",
          "name": "stdout",
          "text": [
            "3.01 ms ± 31.4 µs per loop (mean ± std. dev. of 7 runs, 100 loops each)\n"
          ]
        }
      ]
    },
    {
      "cell_type": "markdown",
      "id": "36bd2f9c",
      "metadata": {
        "id": "36bd2f9c"
      },
      "source": [
        "# Как устроено автоматическое дифференцирование"
      ]
    },
    {
      "cell_type": "code",
      "execution_count": 43,
      "id": "d6bb54fd",
      "metadata": {
        "colab": {
          "base_uri": "https://localhost:8080/"
        },
        "id": "d6bb54fd",
        "outputId": "95854354-bf56-4eed-96f8-e7565b15a0b5"
      },
      "outputs": [
        {
          "output_type": "execute_result",
          "data": {
            "text/plain": [
              "tensor(0.5236, requires_grad=True)"
            ]
          },
          "metadata": {},
          "execution_count": 43
        }
      ],
      "source": [
        "x = torch.tensor(torch.pi / 6, requires_grad=True)\n",
        "x"
      ]
    },
    {
      "cell_type": "code",
      "execution_count": 44,
      "id": "03bff988",
      "metadata": {
        "colab": {
          "base_uri": "https://localhost:8080/"
        },
        "id": "03bff988",
        "outputId": "b0a93f46-ea42-4013-81d2-534f98fa0377"
      },
      "outputs": [
        {
          "output_type": "execute_result",
          "data": {
            "text/plain": [
              "tensor(0.5000, grad_fn=<SinBackward0>)"
            ]
          },
          "metadata": {},
          "execution_count": 44
        }
      ],
      "source": [
        "y = torch.sin(x)\n",
        "y"
      ]
    },
    {
      "cell_type": "code",
      "execution_count": 45,
      "id": "77d77ead",
      "metadata": {
        "colab": {
          "base_uri": "https://localhost:8080/"
        },
        "id": "77d77ead",
        "outputId": "55c501a1-3703-4f23-8b8d-8a4d19125e77"
      },
      "outputs": [
        {
          "output_type": "execute_result",
          "data": {
            "text/plain": [
              "tensor(0.1250, grad_fn=<PowBackward0>)"
            ]
          },
          "metadata": {},
          "execution_count": 45
        }
      ],
      "source": [
        "z = torch.pow(y, 3)\n",
        "z"
      ]
    },
    {
      "cell_type": "code",
      "execution_count": 46,
      "id": "52be7267",
      "metadata": {
        "colab": {
          "base_uri": "https://localhost:8080/"
        },
        "id": "52be7267",
        "outputId": "d5def794-cc9d-4571-b86f-6750706a881d"
      },
      "outputs": [
        {
          "output_type": "execute_result",
          "data": {
            "text/plain": [
              "<torch.autograd.grad_mode.set_grad_enabled at 0x79f06bb1cf70>"
            ]
          },
          "metadata": {},
          "execution_count": 46
        }
      ],
      "source": [
        "torch.set_grad_enabled(False)"
      ]
    },
    {
      "cell_type": "code",
      "execution_count": 47,
      "id": "c8c55931",
      "metadata": {
        "colab": {
          "base_uri": "https://localhost:8080/"
        },
        "id": "c8c55931",
        "outputId": "a3959bd2-c396-4422-cc06-ae5ec28723d0"
      },
      "outputs": [
        {
          "output_type": "execute_result",
          "data": {
            "text/plain": [
              "<PowBackward0 at 0x79f06bb1f7c0>"
            ]
          },
          "metadata": {},
          "execution_count": 47
        }
      ],
      "source": [
        "grad1 = z.grad_fn\n",
        "grad1"
      ]
    },
    {
      "cell_type": "code",
      "execution_count": 48,
      "id": "524cd09b",
      "metadata": {
        "id": "524cd09b"
      },
      "outputs": [],
      "source": [
        "def pow_backward(saved_input, saved_exponent):\n",
        "    return saved_exponent * torch.pow(saved_input, saved_exponent - 1)"
      ]
    },
    {
      "cell_type": "code",
      "execution_count": 49,
      "id": "bdea2d85",
      "metadata": {
        "colab": {
          "base_uri": "https://localhost:8080/"
        },
        "id": "bdea2d85",
        "outputId": "42f77c77-d0d8-4807-d0f6-4aded244380b"
      },
      "outputs": [
        {
          "output_type": "execute_result",
          "data": {
            "text/plain": [
              "(tensor(0.5000, grad_fn=<SinBackward0>), 3)"
            ]
          },
          "metadata": {},
          "execution_count": 49
        }
      ],
      "source": [
        "grad1._saved_self, grad1._saved_exponent"
      ]
    },
    {
      "cell_type": "code",
      "execution_count": 50,
      "id": "0e995adf",
      "metadata": {
        "colab": {
          "base_uri": "https://localhost:8080/"
        },
        "id": "0e995adf",
        "outputId": "5e17f70e-31df-4c12-f16e-25191a3eecda"
      },
      "outputs": [
        {
          "output_type": "execute_result",
          "data": {
            "text/plain": [
              "tensor(0.7500)"
            ]
          },
          "metadata": {},
          "execution_count": 50
        }
      ],
      "source": [
        "d_z_d_y = pow_backward(grad1._saved_self, grad1._saved_exponent)\n",
        "d_z_d_y"
      ]
    },
    {
      "cell_type": "code",
      "execution_count": 53,
      "id": "30aa52cf",
      "metadata": {
        "colab": {
          "base_uri": "https://localhost:8080/"
        },
        "id": "30aa52cf",
        "outputId": "700a5ec4-9034-4075-c6a7-8e2e44dc9033"
      },
      "outputs": [
        {
          "output_type": "execute_result",
          "data": {
            "text/plain": [
              "<SinBackward0 at 0x79f06b9f0f40>"
            ]
          },
          "metadata": {},
          "execution_count": 53
        }
      ],
      "source": [
        "grad2 = grad1.next_functions[0][0]\n",
        "grad2"
      ]
    },
    {
      "cell_type": "code",
      "execution_count": 54,
      "id": "121c57ff",
      "metadata": {
        "id": "121c57ff"
      },
      "outputs": [],
      "source": [
        "def sin_backward(saved_input):\n",
        "    return torch.cos(saved_input)"
      ]
    },
    {
      "cell_type": "code",
      "execution_count": 55,
      "id": "8a82cf1c",
      "metadata": {
        "colab": {
          "base_uri": "https://localhost:8080/"
        },
        "id": "8a82cf1c",
        "outputId": "0c2aca09-2c93-48b7-f2a9-9109970462d3"
      },
      "outputs": [
        {
          "output_type": "execute_result",
          "data": {
            "text/plain": [
              "tensor(0.8660)"
            ]
          },
          "metadata": {},
          "execution_count": 55
        }
      ],
      "source": [
        "d_y_d_x = sin_backward(grad2._saved_self)\n",
        "d_y_d_x"
      ]
    },
    {
      "cell_type": "code",
      "execution_count": 56,
      "id": "532f01a3",
      "metadata": {
        "colab": {
          "base_uri": "https://localhost:8080/"
        },
        "id": "532f01a3",
        "outputId": "f5791828-b254-43c5-b83f-7be02ca7e4ac"
      },
      "outputs": [
        {
          "output_type": "execute_result",
          "data": {
            "text/plain": [
              "tensor(0.6495)"
            ]
          },
          "metadata": {},
          "execution_count": 56
        }
      ],
      "source": [
        "d_z_d_x = d_z_d_y * d_y_d_x\n",
        "d_z_d_x"
      ]
    },
    {
      "cell_type": "code",
      "execution_count": 57,
      "id": "0c3db747",
      "metadata": {
        "colab": {
          "base_uri": "https://localhost:8080/"
        },
        "id": "0c3db747",
        "outputId": "60c8cf7b-6f9c-41ed-e3c3-4117a18cee8b"
      },
      "outputs": [
        {
          "output_type": "execute_result",
          "data": {
            "text/plain": [
              "<torch.autograd.grad_mode.set_grad_enabled at 0x79f06b9f2320>"
            ]
          },
          "metadata": {},
          "execution_count": 57
        }
      ],
      "source": [
        "torch.set_grad_enabled(True)"
      ]
    },
    {
      "cell_type": "code",
      "execution_count": 58,
      "id": "92072aef",
      "metadata": {
        "id": "92072aef"
      },
      "outputs": [],
      "source": [
        "y.retain_grad()\n",
        "z.retain_grad()\n",
        "z.backward()"
      ]
    },
    {
      "cell_type": "code",
      "execution_count": 59,
      "id": "723ab027",
      "metadata": {
        "colab": {
          "base_uri": "https://localhost:8080/"
        },
        "id": "723ab027",
        "outputId": "e1fa9c0d-9762-42af-f6bb-630a63f48bf7"
      },
      "outputs": [
        {
          "output_type": "execute_result",
          "data": {
            "text/plain": [
              "tensor(1.)"
            ]
          },
          "metadata": {},
          "execution_count": 59
        }
      ],
      "source": [
        "z.grad"
      ]
    },
    {
      "cell_type": "code",
      "execution_count": 60,
      "id": "eb51f677",
      "metadata": {
        "colab": {
          "base_uri": "https://localhost:8080/"
        },
        "id": "eb51f677",
        "outputId": "57d4950b-5651-4e2f-8381-c14c526e3a2c"
      },
      "outputs": [
        {
          "output_type": "execute_result",
          "data": {
            "text/plain": [
              "tensor(0.7500)"
            ]
          },
          "metadata": {},
          "execution_count": 60
        }
      ],
      "source": [
        "y.grad"
      ]
    },
    {
      "cell_type": "code",
      "execution_count": 61,
      "id": "74c1c414",
      "metadata": {
        "colab": {
          "base_uri": "https://localhost:8080/"
        },
        "id": "74c1c414",
        "outputId": "d97bd674-bc79-4072-a327-6e840b9fd02f"
      },
      "outputs": [
        {
          "output_type": "execute_result",
          "data": {
            "text/plain": [
              "tensor(0.6495)"
            ]
          },
          "metadata": {},
          "execution_count": 61
        }
      ],
      "source": [
        "x.grad"
      ]
    },
    {
      "cell_type": "code",
      "source": [
        "x = torch.tensor(torch.pi / 6, requires_grad=True)"
      ],
      "metadata": {
        "id": "W_TEIpSHCBrY"
      },
      "id": "W_TEIpSHCBrY",
      "execution_count": 62,
      "outputs": []
    },
    {
      "cell_type": "code",
      "source": [
        "y = torch.exp(x)"
      ],
      "metadata": {
        "id": "GD_uLXWfCBpB"
      },
      "id": "GD_uLXWfCBpB",
      "execution_count": 63,
      "outputs": []
    },
    {
      "cell_type": "code",
      "source": [
        "y"
      ],
      "metadata": {
        "colab": {
          "base_uri": "https://localhost:8080/"
        },
        "id": "cBupUCVsCBmF",
        "outputId": "de1721fb-0375-426b-a730-6252095334d7"
      },
      "id": "cBupUCVsCBmF",
      "execution_count": 64,
      "outputs": [
        {
          "output_type": "execute_result",
          "data": {
            "text/plain": [
              "tensor(1.6881, grad_fn=<ExpBackward0>)"
            ]
          },
          "metadata": {},
          "execution_count": 64
        }
      ]
    },
    {
      "cell_type": "code",
      "source": [
        "y.grad_fn._saved_result"
      ],
      "metadata": {
        "colab": {
          "base_uri": "https://localhost:8080/"
        },
        "id": "ubxrcWAICBHH",
        "outputId": "c1a21d26-2129-4e57-a66d-4dea4a061162"
      },
      "id": "ubxrcWAICBHH",
      "execution_count": 65,
      "outputs": [
        {
          "output_type": "execute_result",
          "data": {
            "text/plain": [
              "tensor(1.6881, grad_fn=<ExpBackward0>)"
            ]
          },
          "metadata": {},
          "execution_count": 65
        }
      ]
    },
    {
      "cell_type": "markdown",
      "id": "1f28828b",
      "metadata": {
        "id": "1f28828b"
      },
      "source": [
        "## На практике"
      ]
    },
    {
      "cell_type": "code",
      "execution_count": 66,
      "id": "9ca7af24",
      "metadata": {
        "colab": {
          "base_uri": "https://localhost:8080/"
        },
        "id": "9ca7af24",
        "outputId": "c5560658-a941-460e-b0b2-94f0ab1aa097"
      },
      "outputs": [
        {
          "output_type": "stream",
          "name": "stdout",
          "text": [
            "allocated: 59,819,520\n",
            " reserved: 220,200,960\n"
          ]
        }
      ],
      "source": [
        "print_memory()"
      ]
    },
    {
      "cell_type": "code",
      "execution_count": 67,
      "id": "fff41436",
      "metadata": {
        "id": "fff41436"
      },
      "outputs": [],
      "source": [
        "seq = torch.randn((20, 128, 1024), device=device)"
      ]
    },
    {
      "cell_type": "code",
      "execution_count": 68,
      "id": "82e4624b",
      "metadata": {
        "id": "82e4624b"
      },
      "outputs": [],
      "source": [
        "gru_cell = nn.GRUCell(1024, 1024).to(device)\n",
        "gru = nn.GRU(1024, 1024).to(device)"
      ]
    },
    {
      "cell_type": "code",
      "execution_count": 69,
      "id": "f51c3475",
      "metadata": {
        "colab": {
          "base_uri": "https://localhost:8080/"
        },
        "id": "f51c3475",
        "outputId": "84e98048-88de-40c7-932d-e5e10ad9acd1"
      },
      "outputs": [
        {
          "output_type": "stream",
          "name": "stdout",
          "text": [
            "allocated: 121,275,904\n",
            " reserved: 220,200,960\n"
          ]
        }
      ],
      "source": [
        "print_memory()"
      ]
    },
    {
      "cell_type": "code",
      "execution_count": 70,
      "id": "2453759b",
      "metadata": {
        "id": "2453759b"
      },
      "outputs": [],
      "source": [
        "pred1 = gru(seq)\n",
        "torch.sum(pred1[0][-1]).backward()"
      ]
    },
    {
      "cell_type": "code",
      "source": [
        "pred1[0].shape"
      ],
      "metadata": {
        "colab": {
          "base_uri": "https://localhost:8080/"
        },
        "id": "Lz6begryD4wn",
        "outputId": "8dd6d725-adba-4a9e-943b-66a1451369fd"
      },
      "id": "Lz6begryD4wn",
      "execution_count": 74,
      "outputs": [
        {
          "output_type": "execute_result",
          "data": {
            "text/plain": [
              "torch.Size([20, 128, 1024])"
            ]
          },
          "metadata": {},
          "execution_count": 74
        }
      ]
    },
    {
      "cell_type": "code",
      "execution_count": 71,
      "id": "9aa81d29",
      "metadata": {
        "colab": {
          "base_uri": "https://localhost:8080/"
        },
        "id": "9aa81d29",
        "outputId": "67bc784e-509b-40c4-e590-27e3ecc177f1"
      },
      "outputs": [
        {
          "output_type": "stream",
          "name": "stdout",
          "text": [
            "allocated: 158,066,176\n",
            " reserved: 352,321,536\n"
          ]
        }
      ],
      "source": [
        "print_memory()"
      ]
    },
    {
      "cell_type": "code",
      "execution_count": 72,
      "id": "f9e2c5c9",
      "metadata": {
        "id": "f9e2c5c9"
      },
      "outputs": [],
      "source": [
        "pred2 = seq[0]\n",
        "\n",
        "for x in seq[1:]:\n",
        "    pred2 = gru_cell(x, pred2)\n",
        "\n",
        "torch.sum(pred2).backward()"
      ]
    },
    {
      "cell_type": "code",
      "source": [
        "pred2.shape"
      ],
      "metadata": {
        "colab": {
          "base_uri": "https://localhost:8080/"
        },
        "id": "zvWINjJND9FW",
        "outputId": "4c69df80-915d-4930-a7ed-88620a9418ce"
      },
      "id": "zvWINjJND9FW",
      "execution_count": 76,
      "outputs": [
        {
          "output_type": "execute_result",
          "data": {
            "text/plain": [
              "torch.Size([128, 1024])"
            ]
          },
          "metadata": {},
          "execution_count": 76
        }
      ]
    },
    {
      "cell_type": "code",
      "execution_count": 73,
      "id": "0704c125",
      "metadata": {
        "colab": {
          "base_uri": "https://localhost:8080/"
        },
        "id": "0704c125",
        "outputId": "071bfda3-29a5-4116-aca5-141a78869ac1"
      },
      "outputs": [
        {
          "output_type": "stream",
          "name": "stdout",
          "text": [
            "allocated: 183,780,864\n",
            " reserved: 360,710,144\n"
          ]
        }
      ],
      "source": [
        "print_memory()"
      ]
    },
    {
      "cell_type": "markdown",
      "source": [
        "Факир был пьян и фокус не удался :("
      ],
      "metadata": {
        "id": "j8XQIIOQGdiY"
      },
      "id": "j8XQIIOQGdiY"
    },
    {
      "cell_type": "code",
      "execution_count": null,
      "id": "8f6fe084",
      "metadata": {
        "id": "8f6fe084"
      },
      "outputs": [],
      "source": []
    }
  ],
  "metadata": {
    "kernelspec": {
      "display_name": "Python 3",
      "name": "python3"
    },
    "language_info": {
      "codemirror_mode": {
        "name": "ipython",
        "version": 3
      },
      "file_extension": ".py",
      "mimetype": "text/x-python",
      "name": "python",
      "nbconvert_exporter": "python",
      "pygments_lexer": "ipython3",
      "version": "3.10.6"
    },
    "colab": {
      "provenance": [],
      "gpuType": "T4"
    },
    "accelerator": "GPU"
  },
  "nbformat": 4,
  "nbformat_minor": 5
}