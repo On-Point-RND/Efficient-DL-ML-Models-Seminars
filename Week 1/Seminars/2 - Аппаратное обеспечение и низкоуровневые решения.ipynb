{
  "nbformat": 4,
  "nbformat_minor": 0,
  "metadata": {
    "colab": {
      "provenance": [],
      "gpuType": "T4"
    },
    "kernelspec": {
      "name": "python3",
      "display_name": "Python 3"
    },
    "language_info": {
      "name": "python"
    },
    "accelerator": "GPU",
    "widgets": {
      "application/vnd.jupyter.widget-state+json": {
        "ee43b7bc0f5e4aa09a643c73b089c3c2": {
          "model_module": "@jupyter-widgets/controls",
          "model_name": "HBoxModel",
          "model_module_version": "1.5.0",
          "state": {
            "_dom_classes": [],
            "_model_module": "@jupyter-widgets/controls",
            "_model_module_version": "1.5.0",
            "_model_name": "HBoxModel",
            "_view_count": null,
            "_view_module": "@jupyter-widgets/controls",
            "_view_module_version": "1.5.0",
            "_view_name": "HBoxView",
            "box_style": "",
            "children": [
              "IPY_MODEL_127b9ae3f8ea46ab8bdbb99aeecdf823",
              "IPY_MODEL_f4ac45bd80b54cf3a0ab0fa83917b3ed",
              "IPY_MODEL_97cc80d49a134fcbb7a4f695c4d2aa5e"
            ],
            "layout": "IPY_MODEL_b3516ac4fa3b4d288f7110709bec451d"
          }
        },
        "127b9ae3f8ea46ab8bdbb99aeecdf823": {
          "model_module": "@jupyter-widgets/controls",
          "model_name": "HTMLModel",
          "model_module_version": "1.5.0",
          "state": {
            "_dom_classes": [],
            "_model_module": "@jupyter-widgets/controls",
            "_model_module_version": "1.5.0",
            "_model_name": "HTMLModel",
            "_view_count": null,
            "_view_module": "@jupyter-widgets/controls",
            "_view_module_version": "1.5.0",
            "_view_name": "HTMLView",
            "description": "",
            "description_tooltip": null,
            "layout": "IPY_MODEL_a601de3172e549d5be09d039db0fa330",
            "placeholder": "​",
            "style": "IPY_MODEL_5d802d34cdc240edbf0c27c7b41398d1",
            "value": "100%"
          }
        },
        "f4ac45bd80b54cf3a0ab0fa83917b3ed": {
          "model_module": "@jupyter-widgets/controls",
          "model_name": "FloatProgressModel",
          "model_module_version": "1.5.0",
          "state": {
            "_dom_classes": [],
            "_model_module": "@jupyter-widgets/controls",
            "_model_module_version": "1.5.0",
            "_model_name": "FloatProgressModel",
            "_view_count": null,
            "_view_module": "@jupyter-widgets/controls",
            "_view_module_version": "1.5.0",
            "_view_name": "ProgressView",
            "bar_style": "success",
            "description": "",
            "description_tooltip": null,
            "layout": "IPY_MODEL_969d04d63b304d7f987cd5db6d6320e8",
            "max": 7,
            "min": 0,
            "orientation": "horizontal",
            "style": "IPY_MODEL_18139135ae194814895068080b7025d2",
            "value": 7
          }
        },
        "97cc80d49a134fcbb7a4f695c4d2aa5e": {
          "model_module": "@jupyter-widgets/controls",
          "model_name": "HTMLModel",
          "model_module_version": "1.5.0",
          "state": {
            "_dom_classes": [],
            "_model_module": "@jupyter-widgets/controls",
            "_model_module_version": "1.5.0",
            "_model_name": "HTMLModel",
            "_view_count": null,
            "_view_module": "@jupyter-widgets/controls",
            "_view_module_version": "1.5.0",
            "_view_name": "HTMLView",
            "description": "",
            "description_tooltip": null,
            "layout": "IPY_MODEL_471bcc3f144f40cab0cbef12fb76b5a6",
            "placeholder": "​",
            "style": "IPY_MODEL_e5d06bad6c8f4c12ae2c6a41d9995b44",
            "value": " 7/7 [00:03&lt;00:00,  1.69it/s]"
          }
        },
        "b3516ac4fa3b4d288f7110709bec451d": {
          "model_module": "@jupyter-widgets/base",
          "model_name": "LayoutModel",
          "model_module_version": "1.2.0",
          "state": {
            "_model_module": "@jupyter-widgets/base",
            "_model_module_version": "1.2.0",
            "_model_name": "LayoutModel",
            "_view_count": null,
            "_view_module": "@jupyter-widgets/base",
            "_view_module_version": "1.2.0",
            "_view_name": "LayoutView",
            "align_content": null,
            "align_items": null,
            "align_self": null,
            "border": null,
            "bottom": null,
            "display": null,
            "flex": null,
            "flex_flow": null,
            "grid_area": null,
            "grid_auto_columns": null,
            "grid_auto_flow": null,
            "grid_auto_rows": null,
            "grid_column": null,
            "grid_gap": null,
            "grid_row": null,
            "grid_template_areas": null,
            "grid_template_columns": null,
            "grid_template_rows": null,
            "height": null,
            "justify_content": null,
            "justify_items": null,
            "left": null,
            "margin": null,
            "max_height": null,
            "max_width": null,
            "min_height": null,
            "min_width": null,
            "object_fit": null,
            "object_position": null,
            "order": null,
            "overflow": null,
            "overflow_x": null,
            "overflow_y": null,
            "padding": null,
            "right": null,
            "top": null,
            "visibility": null,
            "width": null
          }
        },
        "a601de3172e549d5be09d039db0fa330": {
          "model_module": "@jupyter-widgets/base",
          "model_name": "LayoutModel",
          "model_module_version": "1.2.0",
          "state": {
            "_model_module": "@jupyter-widgets/base",
            "_model_module_version": "1.2.0",
            "_model_name": "LayoutModel",
            "_view_count": null,
            "_view_module": "@jupyter-widgets/base",
            "_view_module_version": "1.2.0",
            "_view_name": "LayoutView",
            "align_content": null,
            "align_items": null,
            "align_self": null,
            "border": null,
            "bottom": null,
            "display": null,
            "flex": null,
            "flex_flow": null,
            "grid_area": null,
            "grid_auto_columns": null,
            "grid_auto_flow": null,
            "grid_auto_rows": null,
            "grid_column": null,
            "grid_gap": null,
            "grid_row": null,
            "grid_template_areas": null,
            "grid_template_columns": null,
            "grid_template_rows": null,
            "height": null,
            "justify_content": null,
            "justify_items": null,
            "left": null,
            "margin": null,
            "max_height": null,
            "max_width": null,
            "min_height": null,
            "min_width": null,
            "object_fit": null,
            "object_position": null,
            "order": null,
            "overflow": null,
            "overflow_x": null,
            "overflow_y": null,
            "padding": null,
            "right": null,
            "top": null,
            "visibility": null,
            "width": null
          }
        },
        "5d802d34cdc240edbf0c27c7b41398d1": {
          "model_module": "@jupyter-widgets/controls",
          "model_name": "DescriptionStyleModel",
          "model_module_version": "1.5.0",
          "state": {
            "_model_module": "@jupyter-widgets/controls",
            "_model_module_version": "1.5.0",
            "_model_name": "DescriptionStyleModel",
            "_view_count": null,
            "_view_module": "@jupyter-widgets/base",
            "_view_module_version": "1.2.0",
            "_view_name": "StyleView",
            "description_width": ""
          }
        },
        "969d04d63b304d7f987cd5db6d6320e8": {
          "model_module": "@jupyter-widgets/base",
          "model_name": "LayoutModel",
          "model_module_version": "1.2.0",
          "state": {
            "_model_module": "@jupyter-widgets/base",
            "_model_module_version": "1.2.0",
            "_model_name": "LayoutModel",
            "_view_count": null,
            "_view_module": "@jupyter-widgets/base",
            "_view_module_version": "1.2.0",
            "_view_name": "LayoutView",
            "align_content": null,
            "align_items": null,
            "align_self": null,
            "border": null,
            "bottom": null,
            "display": null,
            "flex": null,
            "flex_flow": null,
            "grid_area": null,
            "grid_auto_columns": null,
            "grid_auto_flow": null,
            "grid_auto_rows": null,
            "grid_column": null,
            "grid_gap": null,
            "grid_row": null,
            "grid_template_areas": null,
            "grid_template_columns": null,
            "grid_template_rows": null,
            "height": null,
            "justify_content": null,
            "justify_items": null,
            "left": null,
            "margin": null,
            "max_height": null,
            "max_width": null,
            "min_height": null,
            "min_width": null,
            "object_fit": null,
            "object_position": null,
            "order": null,
            "overflow": null,
            "overflow_x": null,
            "overflow_y": null,
            "padding": null,
            "right": null,
            "top": null,
            "visibility": null,
            "width": null
          }
        },
        "18139135ae194814895068080b7025d2": {
          "model_module": "@jupyter-widgets/controls",
          "model_name": "ProgressStyleModel",
          "model_module_version": "1.5.0",
          "state": {
            "_model_module": "@jupyter-widgets/controls",
            "_model_module_version": "1.5.0",
            "_model_name": "ProgressStyleModel",
            "_view_count": null,
            "_view_module": "@jupyter-widgets/base",
            "_view_module_version": "1.2.0",
            "_view_name": "StyleView",
            "bar_color": null,
            "description_width": ""
          }
        },
        "471bcc3f144f40cab0cbef12fb76b5a6": {
          "model_module": "@jupyter-widgets/base",
          "model_name": "LayoutModel",
          "model_module_version": "1.2.0",
          "state": {
            "_model_module": "@jupyter-widgets/base",
            "_model_module_version": "1.2.0",
            "_model_name": "LayoutModel",
            "_view_count": null,
            "_view_module": "@jupyter-widgets/base",
            "_view_module_version": "1.2.0",
            "_view_name": "LayoutView",
            "align_content": null,
            "align_items": null,
            "align_self": null,
            "border": null,
            "bottom": null,
            "display": null,
            "flex": null,
            "flex_flow": null,
            "grid_area": null,
            "grid_auto_columns": null,
            "grid_auto_flow": null,
            "grid_auto_rows": null,
            "grid_column": null,
            "grid_gap": null,
            "grid_row": null,
            "grid_template_areas": null,
            "grid_template_columns": null,
            "grid_template_rows": null,
            "height": null,
            "justify_content": null,
            "justify_items": null,
            "left": null,
            "margin": null,
            "max_height": null,
            "max_width": null,
            "min_height": null,
            "min_width": null,
            "object_fit": null,
            "object_position": null,
            "order": null,
            "overflow": null,
            "overflow_x": null,
            "overflow_y": null,
            "padding": null,
            "right": null,
            "top": null,
            "visibility": null,
            "width": null
          }
        },
        "e5d06bad6c8f4c12ae2c6a41d9995b44": {
          "model_module": "@jupyter-widgets/controls",
          "model_name": "DescriptionStyleModel",
          "model_module_version": "1.5.0",
          "state": {
            "_model_module": "@jupyter-widgets/controls",
            "_model_module_version": "1.5.0",
            "_model_name": "DescriptionStyleModel",
            "_view_count": null,
            "_view_module": "@jupyter-widgets/base",
            "_view_module_version": "1.2.0",
            "_view_name": "StyleView",
            "description_width": ""
          }
        },
        "e7a5d8c56d32432cb238594e7b5f12a1": {
          "model_module": "@jupyter-widgets/controls",
          "model_name": "HBoxModel",
          "model_module_version": "1.5.0",
          "state": {
            "_dom_classes": [],
            "_model_module": "@jupyter-widgets/controls",
            "_model_module_version": "1.5.0",
            "_model_name": "HBoxModel",
            "_view_count": null,
            "_view_module": "@jupyter-widgets/controls",
            "_view_module_version": "1.5.0",
            "_view_name": "HBoxView",
            "box_style": "",
            "children": [
              "IPY_MODEL_cf9a3b32283b4bb0b42c2e083b5e868a",
              "IPY_MODEL_a3f054f922b24e4284609937e9f134c5",
              "IPY_MODEL_48ec8596fc984132b767a9e271f3ddcf"
            ],
            "layout": "IPY_MODEL_4eb717557c6d4e98aa582ffaa41fb73e"
          }
        },
        "cf9a3b32283b4bb0b42c2e083b5e868a": {
          "model_module": "@jupyter-widgets/controls",
          "model_name": "HTMLModel",
          "model_module_version": "1.5.0",
          "state": {
            "_dom_classes": [],
            "_model_module": "@jupyter-widgets/controls",
            "_model_module_version": "1.5.0",
            "_model_name": "HTMLModel",
            "_view_count": null,
            "_view_module": "@jupyter-widgets/controls",
            "_view_module_version": "1.5.0",
            "_view_name": "HTMLView",
            "description": "",
            "description_tooltip": null,
            "layout": "IPY_MODEL_a06b9af227da49e3827b50f2a47803b1",
            "placeholder": "​",
            "style": "IPY_MODEL_edd3ceddf4fb4126868124988302a493",
            "value": "100%"
          }
        },
        "a3f054f922b24e4284609937e9f134c5": {
          "model_module": "@jupyter-widgets/controls",
          "model_name": "FloatProgressModel",
          "model_module_version": "1.5.0",
          "state": {
            "_dom_classes": [],
            "_model_module": "@jupyter-widgets/controls",
            "_model_module_version": "1.5.0",
            "_model_name": "FloatProgressModel",
            "_view_count": null,
            "_view_module": "@jupyter-widgets/controls",
            "_view_module_version": "1.5.0",
            "_view_name": "ProgressView",
            "bar_style": "success",
            "description": "",
            "description_tooltip": null,
            "layout": "IPY_MODEL_2bf9b2dfff7c4d0d87b391e6d8262fd2",
            "max": 7,
            "min": 0,
            "orientation": "horizontal",
            "style": "IPY_MODEL_8e7a1e5f813942898488531456381715",
            "value": 7
          }
        },
        "48ec8596fc984132b767a9e271f3ddcf": {
          "model_module": "@jupyter-widgets/controls",
          "model_name": "HTMLModel",
          "model_module_version": "1.5.0",
          "state": {
            "_dom_classes": [],
            "_model_module": "@jupyter-widgets/controls",
            "_model_module_version": "1.5.0",
            "_model_name": "HTMLModel",
            "_view_count": null,
            "_view_module": "@jupyter-widgets/controls",
            "_view_module_version": "1.5.0",
            "_view_name": "HTMLView",
            "description": "",
            "description_tooltip": null,
            "layout": "IPY_MODEL_c90cb39b099a41129601d828621584c7",
            "placeholder": "​",
            "style": "IPY_MODEL_60d0a3ad23c6455b85c31f208a729d52",
            "value": " 7/7 [00:00&lt;00:00, 10.75it/s]"
          }
        },
        "4eb717557c6d4e98aa582ffaa41fb73e": {
          "model_module": "@jupyter-widgets/base",
          "model_name": "LayoutModel",
          "model_module_version": "1.2.0",
          "state": {
            "_model_module": "@jupyter-widgets/base",
            "_model_module_version": "1.2.0",
            "_model_name": "LayoutModel",
            "_view_count": null,
            "_view_module": "@jupyter-widgets/base",
            "_view_module_version": "1.2.0",
            "_view_name": "LayoutView",
            "align_content": null,
            "align_items": null,
            "align_self": null,
            "border": null,
            "bottom": null,
            "display": null,
            "flex": null,
            "flex_flow": null,
            "grid_area": null,
            "grid_auto_columns": null,
            "grid_auto_flow": null,
            "grid_auto_rows": null,
            "grid_column": null,
            "grid_gap": null,
            "grid_row": null,
            "grid_template_areas": null,
            "grid_template_columns": null,
            "grid_template_rows": null,
            "height": null,
            "justify_content": null,
            "justify_items": null,
            "left": null,
            "margin": null,
            "max_height": null,
            "max_width": null,
            "min_height": null,
            "min_width": null,
            "object_fit": null,
            "object_position": null,
            "order": null,
            "overflow": null,
            "overflow_x": null,
            "overflow_y": null,
            "padding": null,
            "right": null,
            "top": null,
            "visibility": null,
            "width": null
          }
        },
        "a06b9af227da49e3827b50f2a47803b1": {
          "model_module": "@jupyter-widgets/base",
          "model_name": "LayoutModel",
          "model_module_version": "1.2.0",
          "state": {
            "_model_module": "@jupyter-widgets/base",
            "_model_module_version": "1.2.0",
            "_model_name": "LayoutModel",
            "_view_count": null,
            "_view_module": "@jupyter-widgets/base",
            "_view_module_version": "1.2.0",
            "_view_name": "LayoutView",
            "align_content": null,
            "align_items": null,
            "align_self": null,
            "border": null,
            "bottom": null,
            "display": null,
            "flex": null,
            "flex_flow": null,
            "grid_area": null,
            "grid_auto_columns": null,
            "grid_auto_flow": null,
            "grid_auto_rows": null,
            "grid_column": null,
            "grid_gap": null,
            "grid_row": null,
            "grid_template_areas": null,
            "grid_template_columns": null,
            "grid_template_rows": null,
            "height": null,
            "justify_content": null,
            "justify_items": null,
            "left": null,
            "margin": null,
            "max_height": null,
            "max_width": null,
            "min_height": null,
            "min_width": null,
            "object_fit": null,
            "object_position": null,
            "order": null,
            "overflow": null,
            "overflow_x": null,
            "overflow_y": null,
            "padding": null,
            "right": null,
            "top": null,
            "visibility": null,
            "width": null
          }
        },
        "edd3ceddf4fb4126868124988302a493": {
          "model_module": "@jupyter-widgets/controls",
          "model_name": "DescriptionStyleModel",
          "model_module_version": "1.5.0",
          "state": {
            "_model_module": "@jupyter-widgets/controls",
            "_model_module_version": "1.5.0",
            "_model_name": "DescriptionStyleModel",
            "_view_count": null,
            "_view_module": "@jupyter-widgets/base",
            "_view_module_version": "1.2.0",
            "_view_name": "StyleView",
            "description_width": ""
          }
        },
        "2bf9b2dfff7c4d0d87b391e6d8262fd2": {
          "model_module": "@jupyter-widgets/base",
          "model_name": "LayoutModel",
          "model_module_version": "1.2.0",
          "state": {
            "_model_module": "@jupyter-widgets/base",
            "_model_module_version": "1.2.0",
            "_model_name": "LayoutModel",
            "_view_count": null,
            "_view_module": "@jupyter-widgets/base",
            "_view_module_version": "1.2.0",
            "_view_name": "LayoutView",
            "align_content": null,
            "align_items": null,
            "align_self": null,
            "border": null,
            "bottom": null,
            "display": null,
            "flex": null,
            "flex_flow": null,
            "grid_area": null,
            "grid_auto_columns": null,
            "grid_auto_flow": null,
            "grid_auto_rows": null,
            "grid_column": null,
            "grid_gap": null,
            "grid_row": null,
            "grid_template_areas": null,
            "grid_template_columns": null,
            "grid_template_rows": null,
            "height": null,
            "justify_content": null,
            "justify_items": null,
            "left": null,
            "margin": null,
            "max_height": null,
            "max_width": null,
            "min_height": null,
            "min_width": null,
            "object_fit": null,
            "object_position": null,
            "order": null,
            "overflow": null,
            "overflow_x": null,
            "overflow_y": null,
            "padding": null,
            "right": null,
            "top": null,
            "visibility": null,
            "width": null
          }
        },
        "8e7a1e5f813942898488531456381715": {
          "model_module": "@jupyter-widgets/controls",
          "model_name": "ProgressStyleModel",
          "model_module_version": "1.5.0",
          "state": {
            "_model_module": "@jupyter-widgets/controls",
            "_model_module_version": "1.5.0",
            "_model_name": "ProgressStyleModel",
            "_view_count": null,
            "_view_module": "@jupyter-widgets/base",
            "_view_module_version": "1.2.0",
            "_view_name": "StyleView",
            "bar_color": null,
            "description_width": ""
          }
        },
        "c90cb39b099a41129601d828621584c7": {
          "model_module": "@jupyter-widgets/base",
          "model_name": "LayoutModel",
          "model_module_version": "1.2.0",
          "state": {
            "_model_module": "@jupyter-widgets/base",
            "_model_module_version": "1.2.0",
            "_model_name": "LayoutModel",
            "_view_count": null,
            "_view_module": "@jupyter-widgets/base",
            "_view_module_version": "1.2.0",
            "_view_name": "LayoutView",
            "align_content": null,
            "align_items": null,
            "align_self": null,
            "border": null,
            "bottom": null,
            "display": null,
            "flex": null,
            "flex_flow": null,
            "grid_area": null,
            "grid_auto_columns": null,
            "grid_auto_flow": null,
            "grid_auto_rows": null,
            "grid_column": null,
            "grid_gap": null,
            "grid_row": null,
            "grid_template_areas": null,
            "grid_template_columns": null,
            "grid_template_rows": null,
            "height": null,
            "justify_content": null,
            "justify_items": null,
            "left": null,
            "margin": null,
            "max_height": null,
            "max_width": null,
            "min_height": null,
            "min_width": null,
            "object_fit": null,
            "object_position": null,
            "order": null,
            "overflow": null,
            "overflow_x": null,
            "overflow_y": null,
            "padding": null,
            "right": null,
            "top": null,
            "visibility": null,
            "width": null
          }
        },
        "60d0a3ad23c6455b85c31f208a729d52": {
          "model_module": "@jupyter-widgets/controls",
          "model_name": "DescriptionStyleModel",
          "model_module_version": "1.5.0",
          "state": {
            "_model_module": "@jupyter-widgets/controls",
            "_model_module_version": "1.5.0",
            "_model_name": "DescriptionStyleModel",
            "_view_count": null,
            "_view_module": "@jupyter-widgets/base",
            "_view_module_version": "1.2.0",
            "_view_name": "StyleView",
            "description_width": ""
          }
        },
        "283e5de031584403a11dd1117a2d39a0": {
          "model_module": "@jupyter-widgets/controls",
          "model_name": "HBoxModel",
          "model_module_version": "1.5.0",
          "state": {
            "_dom_classes": [],
            "_model_module": "@jupyter-widgets/controls",
            "_model_module_version": "1.5.0",
            "_model_name": "HBoxModel",
            "_view_count": null,
            "_view_module": "@jupyter-widgets/controls",
            "_view_module_version": "1.5.0",
            "_view_name": "HBoxView",
            "box_style": "",
            "children": [
              "IPY_MODEL_144ec056b65e464cb85733282fd5fd74",
              "IPY_MODEL_11580489a5c049b9b49cd1b50b5329f3",
              "IPY_MODEL_a72236c906f04bd3946f950ac4847818"
            ],
            "layout": "IPY_MODEL_1723fb5043f44f7484a8e72662839275"
          }
        },
        "144ec056b65e464cb85733282fd5fd74": {
          "model_module": "@jupyter-widgets/controls",
          "model_name": "HTMLModel",
          "model_module_version": "1.5.0",
          "state": {
            "_dom_classes": [],
            "_model_module": "@jupyter-widgets/controls",
            "_model_module_version": "1.5.0",
            "_model_name": "HTMLModel",
            "_view_count": null,
            "_view_module": "@jupyter-widgets/controls",
            "_view_module_version": "1.5.0",
            "_view_name": "HTMLView",
            "description": "",
            "description_tooltip": null,
            "layout": "IPY_MODEL_a2a74c5f6466493398407900413586a5",
            "placeholder": "​",
            "style": "IPY_MODEL_3fe7039f08c84b03b7167ead4cb86628",
            "value": "100%"
          }
        },
        "11580489a5c049b9b49cd1b50b5329f3": {
          "model_module": "@jupyter-widgets/controls",
          "model_name": "FloatProgressModel",
          "model_module_version": "1.5.0",
          "state": {
            "_dom_classes": [],
            "_model_module": "@jupyter-widgets/controls",
            "_model_module_version": "1.5.0",
            "_model_name": "FloatProgressModel",
            "_view_count": null,
            "_view_module": "@jupyter-widgets/controls",
            "_view_module_version": "1.5.0",
            "_view_name": "ProgressView",
            "bar_style": "success",
            "description": "",
            "description_tooltip": null,
            "layout": "IPY_MODEL_71bb1649cd864d60a312c3a4db16b76f",
            "max": 7,
            "min": 0,
            "orientation": "horizontal",
            "style": "IPY_MODEL_733ae7a986fe4cb58691ae9c9d0bba8f",
            "value": 7
          }
        },
        "a72236c906f04bd3946f950ac4847818": {
          "model_module": "@jupyter-widgets/controls",
          "model_name": "HTMLModel",
          "model_module_version": "1.5.0",
          "state": {
            "_dom_classes": [],
            "_model_module": "@jupyter-widgets/controls",
            "_model_module_version": "1.5.0",
            "_model_name": "HTMLModel",
            "_view_count": null,
            "_view_module": "@jupyter-widgets/controls",
            "_view_module_version": "1.5.0",
            "_view_name": "HTMLView",
            "description": "",
            "description_tooltip": null,
            "layout": "IPY_MODEL_61fb6e5f3c5d43dc90b53f4054372fb5",
            "placeholder": "​",
            "style": "IPY_MODEL_b7d84a0160b0441698dc6c131e36576d",
            "value": " 7/7 [00:00&lt;00:00,  9.29it/s]"
          }
        },
        "1723fb5043f44f7484a8e72662839275": {
          "model_module": "@jupyter-widgets/base",
          "model_name": "LayoutModel",
          "model_module_version": "1.2.0",
          "state": {
            "_model_module": "@jupyter-widgets/base",
            "_model_module_version": "1.2.0",
            "_model_name": "LayoutModel",
            "_view_count": null,
            "_view_module": "@jupyter-widgets/base",
            "_view_module_version": "1.2.0",
            "_view_name": "LayoutView",
            "align_content": null,
            "align_items": null,
            "align_self": null,
            "border": null,
            "bottom": null,
            "display": null,
            "flex": null,
            "flex_flow": null,
            "grid_area": null,
            "grid_auto_columns": null,
            "grid_auto_flow": null,
            "grid_auto_rows": null,
            "grid_column": null,
            "grid_gap": null,
            "grid_row": null,
            "grid_template_areas": null,
            "grid_template_columns": null,
            "grid_template_rows": null,
            "height": null,
            "justify_content": null,
            "justify_items": null,
            "left": null,
            "margin": null,
            "max_height": null,
            "max_width": null,
            "min_height": null,
            "min_width": null,
            "object_fit": null,
            "object_position": null,
            "order": null,
            "overflow": null,
            "overflow_x": null,
            "overflow_y": null,
            "padding": null,
            "right": null,
            "top": null,
            "visibility": null,
            "width": null
          }
        },
        "a2a74c5f6466493398407900413586a5": {
          "model_module": "@jupyter-widgets/base",
          "model_name": "LayoutModel",
          "model_module_version": "1.2.0",
          "state": {
            "_model_module": "@jupyter-widgets/base",
            "_model_module_version": "1.2.0",
            "_model_name": "LayoutModel",
            "_view_count": null,
            "_view_module": "@jupyter-widgets/base",
            "_view_module_version": "1.2.0",
            "_view_name": "LayoutView",
            "align_content": null,
            "align_items": null,
            "align_self": null,
            "border": null,
            "bottom": null,
            "display": null,
            "flex": null,
            "flex_flow": null,
            "grid_area": null,
            "grid_auto_columns": null,
            "grid_auto_flow": null,
            "grid_auto_rows": null,
            "grid_column": null,
            "grid_gap": null,
            "grid_row": null,
            "grid_template_areas": null,
            "grid_template_columns": null,
            "grid_template_rows": null,
            "height": null,
            "justify_content": null,
            "justify_items": null,
            "left": null,
            "margin": null,
            "max_height": null,
            "max_width": null,
            "min_height": null,
            "min_width": null,
            "object_fit": null,
            "object_position": null,
            "order": null,
            "overflow": null,
            "overflow_x": null,
            "overflow_y": null,
            "padding": null,
            "right": null,
            "top": null,
            "visibility": null,
            "width": null
          }
        },
        "3fe7039f08c84b03b7167ead4cb86628": {
          "model_module": "@jupyter-widgets/controls",
          "model_name": "DescriptionStyleModel",
          "model_module_version": "1.5.0",
          "state": {
            "_model_module": "@jupyter-widgets/controls",
            "_model_module_version": "1.5.0",
            "_model_name": "DescriptionStyleModel",
            "_view_count": null,
            "_view_module": "@jupyter-widgets/base",
            "_view_module_version": "1.2.0",
            "_view_name": "StyleView",
            "description_width": ""
          }
        },
        "71bb1649cd864d60a312c3a4db16b76f": {
          "model_module": "@jupyter-widgets/base",
          "model_name": "LayoutModel",
          "model_module_version": "1.2.0",
          "state": {
            "_model_module": "@jupyter-widgets/base",
            "_model_module_version": "1.2.0",
            "_model_name": "LayoutModel",
            "_view_count": null,
            "_view_module": "@jupyter-widgets/base",
            "_view_module_version": "1.2.0",
            "_view_name": "LayoutView",
            "align_content": null,
            "align_items": null,
            "align_self": null,
            "border": null,
            "bottom": null,
            "display": null,
            "flex": null,
            "flex_flow": null,
            "grid_area": null,
            "grid_auto_columns": null,
            "grid_auto_flow": null,
            "grid_auto_rows": null,
            "grid_column": null,
            "grid_gap": null,
            "grid_row": null,
            "grid_template_areas": null,
            "grid_template_columns": null,
            "grid_template_rows": null,
            "height": null,
            "justify_content": null,
            "justify_items": null,
            "left": null,
            "margin": null,
            "max_height": null,
            "max_width": null,
            "min_height": null,
            "min_width": null,
            "object_fit": null,
            "object_position": null,
            "order": null,
            "overflow": null,
            "overflow_x": null,
            "overflow_y": null,
            "padding": null,
            "right": null,
            "top": null,
            "visibility": null,
            "width": null
          }
        },
        "733ae7a986fe4cb58691ae9c9d0bba8f": {
          "model_module": "@jupyter-widgets/controls",
          "model_name": "ProgressStyleModel",
          "model_module_version": "1.5.0",
          "state": {
            "_model_module": "@jupyter-widgets/controls",
            "_model_module_version": "1.5.0",
            "_model_name": "ProgressStyleModel",
            "_view_count": null,
            "_view_module": "@jupyter-widgets/base",
            "_view_module_version": "1.2.0",
            "_view_name": "StyleView",
            "bar_color": null,
            "description_width": ""
          }
        },
        "61fb6e5f3c5d43dc90b53f4054372fb5": {
          "model_module": "@jupyter-widgets/base",
          "model_name": "LayoutModel",
          "model_module_version": "1.2.0",
          "state": {
            "_model_module": "@jupyter-widgets/base",
            "_model_module_version": "1.2.0",
            "_model_name": "LayoutModel",
            "_view_count": null,
            "_view_module": "@jupyter-widgets/base",
            "_view_module_version": "1.2.0",
            "_view_name": "LayoutView",
            "align_content": null,
            "align_items": null,
            "align_self": null,
            "border": null,
            "bottom": null,
            "display": null,
            "flex": null,
            "flex_flow": null,
            "grid_area": null,
            "grid_auto_columns": null,
            "grid_auto_flow": null,
            "grid_auto_rows": null,
            "grid_column": null,
            "grid_gap": null,
            "grid_row": null,
            "grid_template_areas": null,
            "grid_template_columns": null,
            "grid_template_rows": null,
            "height": null,
            "justify_content": null,
            "justify_items": null,
            "left": null,
            "margin": null,
            "max_height": null,
            "max_width": null,
            "min_height": null,
            "min_width": null,
            "object_fit": null,
            "object_position": null,
            "order": null,
            "overflow": null,
            "overflow_x": null,
            "overflow_y": null,
            "padding": null,
            "right": null,
            "top": null,
            "visibility": null,
            "width": null
          }
        },
        "b7d84a0160b0441698dc6c131e36576d": {
          "model_module": "@jupyter-widgets/controls",
          "model_name": "DescriptionStyleModel",
          "model_module_version": "1.5.0",
          "state": {
            "_model_module": "@jupyter-widgets/controls",
            "_model_module_version": "1.5.0",
            "_model_name": "DescriptionStyleModel",
            "_view_count": null,
            "_view_module": "@jupyter-widgets/base",
            "_view_module_version": "1.2.0",
            "_view_name": "StyleView",
            "description_width": ""
          }
        },
        "7c9c808f42b345978174a824b85208c2": {
          "model_module": "@jupyter-widgets/controls",
          "model_name": "HBoxModel",
          "model_module_version": "1.5.0",
          "state": {
            "_dom_classes": [],
            "_model_module": "@jupyter-widgets/controls",
            "_model_module_version": "1.5.0",
            "_model_name": "HBoxModel",
            "_view_count": null,
            "_view_module": "@jupyter-widgets/controls",
            "_view_module_version": "1.5.0",
            "_view_name": "HBoxView",
            "box_style": "",
            "children": [
              "IPY_MODEL_3a5a5404a9924c85aa62a212228c3af0",
              "IPY_MODEL_6d0ff603a79142018046b3fba50ffce8",
              "IPY_MODEL_6a2de779e9814833acb0ba5c2e5edc27"
            ],
            "layout": "IPY_MODEL_03803a6471184e5285196529a4b912d7"
          }
        },
        "3a5a5404a9924c85aa62a212228c3af0": {
          "model_module": "@jupyter-widgets/controls",
          "model_name": "HTMLModel",
          "model_module_version": "1.5.0",
          "state": {
            "_dom_classes": [],
            "_model_module": "@jupyter-widgets/controls",
            "_model_module_version": "1.5.0",
            "_model_name": "HTMLModel",
            "_view_count": null,
            "_view_module": "@jupyter-widgets/controls",
            "_view_module_version": "1.5.0",
            "_view_name": "HTMLView",
            "description": "",
            "description_tooltip": null,
            "layout": "IPY_MODEL_30a604dad31e40b3b796227699ac031d",
            "placeholder": "​",
            "style": "IPY_MODEL_281afd2d205e4cd488c30cd40abd2cfd",
            "value": "100%"
          }
        },
        "6d0ff603a79142018046b3fba50ffce8": {
          "model_module": "@jupyter-widgets/controls",
          "model_name": "FloatProgressModel",
          "model_module_version": "1.5.0",
          "state": {
            "_dom_classes": [],
            "_model_module": "@jupyter-widgets/controls",
            "_model_module_version": "1.5.0",
            "_model_name": "FloatProgressModel",
            "_view_count": null,
            "_view_module": "@jupyter-widgets/controls",
            "_view_module_version": "1.5.0",
            "_view_name": "ProgressView",
            "bar_style": "success",
            "description": "",
            "description_tooltip": null,
            "layout": "IPY_MODEL_07657ae915564986bd7061d8b420c25a",
            "max": 7,
            "min": 0,
            "orientation": "horizontal",
            "style": "IPY_MODEL_b3646910ecbf4ab0bd67322d427c0402",
            "value": 7
          }
        },
        "6a2de779e9814833acb0ba5c2e5edc27": {
          "model_module": "@jupyter-widgets/controls",
          "model_name": "HTMLModel",
          "model_module_version": "1.5.0",
          "state": {
            "_dom_classes": [],
            "_model_module": "@jupyter-widgets/controls",
            "_model_module_version": "1.5.0",
            "_model_name": "HTMLModel",
            "_view_count": null,
            "_view_module": "@jupyter-widgets/controls",
            "_view_module_version": "1.5.0",
            "_view_name": "HTMLView",
            "description": "",
            "description_tooltip": null,
            "layout": "IPY_MODEL_f1882b149bed435490c02300bf3c3f88",
            "placeholder": "​",
            "style": "IPY_MODEL_c3756a1ab40b48c4bb9fc18ce874db1d",
            "value": " 7/7 [00:00&lt;00:00, 15.51it/s]"
          }
        },
        "03803a6471184e5285196529a4b912d7": {
          "model_module": "@jupyter-widgets/base",
          "model_name": "LayoutModel",
          "model_module_version": "1.2.0",
          "state": {
            "_model_module": "@jupyter-widgets/base",
            "_model_module_version": "1.2.0",
            "_model_name": "LayoutModel",
            "_view_count": null,
            "_view_module": "@jupyter-widgets/base",
            "_view_module_version": "1.2.0",
            "_view_name": "LayoutView",
            "align_content": null,
            "align_items": null,
            "align_self": null,
            "border": null,
            "bottom": null,
            "display": null,
            "flex": null,
            "flex_flow": null,
            "grid_area": null,
            "grid_auto_columns": null,
            "grid_auto_flow": null,
            "grid_auto_rows": null,
            "grid_column": null,
            "grid_gap": null,
            "grid_row": null,
            "grid_template_areas": null,
            "grid_template_columns": null,
            "grid_template_rows": null,
            "height": null,
            "justify_content": null,
            "justify_items": null,
            "left": null,
            "margin": null,
            "max_height": null,
            "max_width": null,
            "min_height": null,
            "min_width": null,
            "object_fit": null,
            "object_position": null,
            "order": null,
            "overflow": null,
            "overflow_x": null,
            "overflow_y": null,
            "padding": null,
            "right": null,
            "top": null,
            "visibility": null,
            "width": null
          }
        },
        "30a604dad31e40b3b796227699ac031d": {
          "model_module": "@jupyter-widgets/base",
          "model_name": "LayoutModel",
          "model_module_version": "1.2.0",
          "state": {
            "_model_module": "@jupyter-widgets/base",
            "_model_module_version": "1.2.0",
            "_model_name": "LayoutModel",
            "_view_count": null,
            "_view_module": "@jupyter-widgets/base",
            "_view_module_version": "1.2.0",
            "_view_name": "LayoutView",
            "align_content": null,
            "align_items": null,
            "align_self": null,
            "border": null,
            "bottom": null,
            "display": null,
            "flex": null,
            "flex_flow": null,
            "grid_area": null,
            "grid_auto_columns": null,
            "grid_auto_flow": null,
            "grid_auto_rows": null,
            "grid_column": null,
            "grid_gap": null,
            "grid_row": null,
            "grid_template_areas": null,
            "grid_template_columns": null,
            "grid_template_rows": null,
            "height": null,
            "justify_content": null,
            "justify_items": null,
            "left": null,
            "margin": null,
            "max_height": null,
            "max_width": null,
            "min_height": null,
            "min_width": null,
            "object_fit": null,
            "object_position": null,
            "order": null,
            "overflow": null,
            "overflow_x": null,
            "overflow_y": null,
            "padding": null,
            "right": null,
            "top": null,
            "visibility": null,
            "width": null
          }
        },
        "281afd2d205e4cd488c30cd40abd2cfd": {
          "model_module": "@jupyter-widgets/controls",
          "model_name": "DescriptionStyleModel",
          "model_module_version": "1.5.0",
          "state": {
            "_model_module": "@jupyter-widgets/controls",
            "_model_module_version": "1.5.0",
            "_model_name": "DescriptionStyleModel",
            "_view_count": null,
            "_view_module": "@jupyter-widgets/base",
            "_view_module_version": "1.2.0",
            "_view_name": "StyleView",
            "description_width": ""
          }
        },
        "07657ae915564986bd7061d8b420c25a": {
          "model_module": "@jupyter-widgets/base",
          "model_name": "LayoutModel",
          "model_module_version": "1.2.0",
          "state": {
            "_model_module": "@jupyter-widgets/base",
            "_model_module_version": "1.2.0",
            "_model_name": "LayoutModel",
            "_view_count": null,
            "_view_module": "@jupyter-widgets/base",
            "_view_module_version": "1.2.0",
            "_view_name": "LayoutView",
            "align_content": null,
            "align_items": null,
            "align_self": null,
            "border": null,
            "bottom": null,
            "display": null,
            "flex": null,
            "flex_flow": null,
            "grid_area": null,
            "grid_auto_columns": null,
            "grid_auto_flow": null,
            "grid_auto_rows": null,
            "grid_column": null,
            "grid_gap": null,
            "grid_row": null,
            "grid_template_areas": null,
            "grid_template_columns": null,
            "grid_template_rows": null,
            "height": null,
            "justify_content": null,
            "justify_items": null,
            "left": null,
            "margin": null,
            "max_height": null,
            "max_width": null,
            "min_height": null,
            "min_width": null,
            "object_fit": null,
            "object_position": null,
            "order": null,
            "overflow": null,
            "overflow_x": null,
            "overflow_y": null,
            "padding": null,
            "right": null,
            "top": null,
            "visibility": null,
            "width": null
          }
        },
        "b3646910ecbf4ab0bd67322d427c0402": {
          "model_module": "@jupyter-widgets/controls",
          "model_name": "ProgressStyleModel",
          "model_module_version": "1.5.0",
          "state": {
            "_model_module": "@jupyter-widgets/controls",
            "_model_module_version": "1.5.0",
            "_model_name": "ProgressStyleModel",
            "_view_count": null,
            "_view_module": "@jupyter-widgets/base",
            "_view_module_version": "1.2.0",
            "_view_name": "StyleView",
            "bar_color": null,
            "description_width": ""
          }
        },
        "f1882b149bed435490c02300bf3c3f88": {
          "model_module": "@jupyter-widgets/base",
          "model_name": "LayoutModel",
          "model_module_version": "1.2.0",
          "state": {
            "_model_module": "@jupyter-widgets/base",
            "_model_module_version": "1.2.0",
            "_model_name": "LayoutModel",
            "_view_count": null,
            "_view_module": "@jupyter-widgets/base",
            "_view_module_version": "1.2.0",
            "_view_name": "LayoutView",
            "align_content": null,
            "align_items": null,
            "align_self": null,
            "border": null,
            "bottom": null,
            "display": null,
            "flex": null,
            "flex_flow": null,
            "grid_area": null,
            "grid_auto_columns": null,
            "grid_auto_flow": null,
            "grid_auto_rows": null,
            "grid_column": null,
            "grid_gap": null,
            "grid_row": null,
            "grid_template_areas": null,
            "grid_template_columns": null,
            "grid_template_rows": null,
            "height": null,
            "justify_content": null,
            "justify_items": null,
            "left": null,
            "margin": null,
            "max_height": null,
            "max_width": null,
            "min_height": null,
            "min_width": null,
            "object_fit": null,
            "object_position": null,
            "order": null,
            "overflow": null,
            "overflow_x": null,
            "overflow_y": null,
            "padding": null,
            "right": null,
            "top": null,
            "visibility": null,
            "width": null
          }
        },
        "c3756a1ab40b48c4bb9fc18ce874db1d": {
          "model_module": "@jupyter-widgets/controls",
          "model_name": "DescriptionStyleModel",
          "model_module_version": "1.5.0",
          "state": {
            "_model_module": "@jupyter-widgets/controls",
            "_model_module_version": "1.5.0",
            "_model_name": "DescriptionStyleModel",
            "_view_count": null,
            "_view_module": "@jupyter-widgets/base",
            "_view_module_version": "1.2.0",
            "_view_name": "StyleView",
            "description_width": ""
          }
        },
        "f790569724654d1995bbae761f555c41": {
          "model_module": "@jupyter-widgets/controls",
          "model_name": "HBoxModel",
          "model_module_version": "1.5.0",
          "state": {
            "_dom_classes": [],
            "_model_module": "@jupyter-widgets/controls",
            "_model_module_version": "1.5.0",
            "_model_name": "HBoxModel",
            "_view_count": null,
            "_view_module": "@jupyter-widgets/controls",
            "_view_module_version": "1.5.0",
            "_view_name": "HBoxView",
            "box_style": "",
            "children": [
              "IPY_MODEL_f14dda62d5ef40369537fd5646187541",
              "IPY_MODEL_ac2a43a20c2a446c891c98a42e0a217c",
              "IPY_MODEL_6af0f9f557b446d2bc430c7c8022a4ea"
            ],
            "layout": "IPY_MODEL_b7e02e49e47544ad9b891f84d5cdda7d"
          }
        },
        "f14dda62d5ef40369537fd5646187541": {
          "model_module": "@jupyter-widgets/controls",
          "model_name": "HTMLModel",
          "model_module_version": "1.5.0",
          "state": {
            "_dom_classes": [],
            "_model_module": "@jupyter-widgets/controls",
            "_model_module_version": "1.5.0",
            "_model_name": "HTMLModel",
            "_view_count": null,
            "_view_module": "@jupyter-widgets/controls",
            "_view_module_version": "1.5.0",
            "_view_name": "HTMLView",
            "description": "",
            "description_tooltip": null,
            "layout": "IPY_MODEL_38cf6ee82f324eb9be1a24097ae93adb",
            "placeholder": "​",
            "style": "IPY_MODEL_cce76c5c04474dcb87aec9f8b65b8035",
            "value": "100%"
          }
        },
        "ac2a43a20c2a446c891c98a42e0a217c": {
          "model_module": "@jupyter-widgets/controls",
          "model_name": "FloatProgressModel",
          "model_module_version": "1.5.0",
          "state": {
            "_dom_classes": [],
            "_model_module": "@jupyter-widgets/controls",
            "_model_module_version": "1.5.0",
            "_model_name": "FloatProgressModel",
            "_view_count": null,
            "_view_module": "@jupyter-widgets/controls",
            "_view_module_version": "1.5.0",
            "_view_name": "ProgressView",
            "bar_style": "success",
            "description": "",
            "description_tooltip": null,
            "layout": "IPY_MODEL_b567ba2c11aa4c27ad1e6d065c7bf3d3",
            "max": 7,
            "min": 0,
            "orientation": "horizontal",
            "style": "IPY_MODEL_4ab0d6ee419247c883b0a1e5b6bcc5a9",
            "value": 7
          }
        },
        "6af0f9f557b446d2bc430c7c8022a4ea": {
          "model_module": "@jupyter-widgets/controls",
          "model_name": "HTMLModel",
          "model_module_version": "1.5.0",
          "state": {
            "_dom_classes": [],
            "_model_module": "@jupyter-widgets/controls",
            "_model_module_version": "1.5.0",
            "_model_name": "HTMLModel",
            "_view_count": null,
            "_view_module": "@jupyter-widgets/controls",
            "_view_module_version": "1.5.0",
            "_view_name": "HTMLView",
            "description": "",
            "description_tooltip": null,
            "layout": "IPY_MODEL_4b3208e29d1b4928af97e180b962834b",
            "placeholder": "​",
            "style": "IPY_MODEL_86971f898de14092b68236728bb3325c",
            "value": " 7/7 [00:14&lt;00:00,  1.77s/it]"
          }
        },
        "b7e02e49e47544ad9b891f84d5cdda7d": {
          "model_module": "@jupyter-widgets/base",
          "model_name": "LayoutModel",
          "model_module_version": "1.2.0",
          "state": {
            "_model_module": "@jupyter-widgets/base",
            "_model_module_version": "1.2.0",
            "_model_name": "LayoutModel",
            "_view_count": null,
            "_view_module": "@jupyter-widgets/base",
            "_view_module_version": "1.2.0",
            "_view_name": "LayoutView",
            "align_content": null,
            "align_items": null,
            "align_self": null,
            "border": null,
            "bottom": null,
            "display": null,
            "flex": null,
            "flex_flow": null,
            "grid_area": null,
            "grid_auto_columns": null,
            "grid_auto_flow": null,
            "grid_auto_rows": null,
            "grid_column": null,
            "grid_gap": null,
            "grid_row": null,
            "grid_template_areas": null,
            "grid_template_columns": null,
            "grid_template_rows": null,
            "height": null,
            "justify_content": null,
            "justify_items": null,
            "left": null,
            "margin": null,
            "max_height": null,
            "max_width": null,
            "min_height": null,
            "min_width": null,
            "object_fit": null,
            "object_position": null,
            "order": null,
            "overflow": null,
            "overflow_x": null,
            "overflow_y": null,
            "padding": null,
            "right": null,
            "top": null,
            "visibility": null,
            "width": null
          }
        },
        "38cf6ee82f324eb9be1a24097ae93adb": {
          "model_module": "@jupyter-widgets/base",
          "model_name": "LayoutModel",
          "model_module_version": "1.2.0",
          "state": {
            "_model_module": "@jupyter-widgets/base",
            "_model_module_version": "1.2.0",
            "_model_name": "LayoutModel",
            "_view_count": null,
            "_view_module": "@jupyter-widgets/base",
            "_view_module_version": "1.2.0",
            "_view_name": "LayoutView",
            "align_content": null,
            "align_items": null,
            "align_self": null,
            "border": null,
            "bottom": null,
            "display": null,
            "flex": null,
            "flex_flow": null,
            "grid_area": null,
            "grid_auto_columns": null,
            "grid_auto_flow": null,
            "grid_auto_rows": null,
            "grid_column": null,
            "grid_gap": null,
            "grid_row": null,
            "grid_template_areas": null,
            "grid_template_columns": null,
            "grid_template_rows": null,
            "height": null,
            "justify_content": null,
            "justify_items": null,
            "left": null,
            "margin": null,
            "max_height": null,
            "max_width": null,
            "min_height": null,
            "min_width": null,
            "object_fit": null,
            "object_position": null,
            "order": null,
            "overflow": null,
            "overflow_x": null,
            "overflow_y": null,
            "padding": null,
            "right": null,
            "top": null,
            "visibility": null,
            "width": null
          }
        },
        "cce76c5c04474dcb87aec9f8b65b8035": {
          "model_module": "@jupyter-widgets/controls",
          "model_name": "DescriptionStyleModel",
          "model_module_version": "1.5.0",
          "state": {
            "_model_module": "@jupyter-widgets/controls",
            "_model_module_version": "1.5.0",
            "_model_name": "DescriptionStyleModel",
            "_view_count": null,
            "_view_module": "@jupyter-widgets/base",
            "_view_module_version": "1.2.0",
            "_view_name": "StyleView",
            "description_width": ""
          }
        },
        "b567ba2c11aa4c27ad1e6d065c7bf3d3": {
          "model_module": "@jupyter-widgets/base",
          "model_name": "LayoutModel",
          "model_module_version": "1.2.0",
          "state": {
            "_model_module": "@jupyter-widgets/base",
            "_model_module_version": "1.2.0",
            "_model_name": "LayoutModel",
            "_view_count": null,
            "_view_module": "@jupyter-widgets/base",
            "_view_module_version": "1.2.0",
            "_view_name": "LayoutView",
            "align_content": null,
            "align_items": null,
            "align_self": null,
            "border": null,
            "bottom": null,
            "display": null,
            "flex": null,
            "flex_flow": null,
            "grid_area": null,
            "grid_auto_columns": null,
            "grid_auto_flow": null,
            "grid_auto_rows": null,
            "grid_column": null,
            "grid_gap": null,
            "grid_row": null,
            "grid_template_areas": null,
            "grid_template_columns": null,
            "grid_template_rows": null,
            "height": null,
            "justify_content": null,
            "justify_items": null,
            "left": null,
            "margin": null,
            "max_height": null,
            "max_width": null,
            "min_height": null,
            "min_width": null,
            "object_fit": null,
            "object_position": null,
            "order": null,
            "overflow": null,
            "overflow_x": null,
            "overflow_y": null,
            "padding": null,
            "right": null,
            "top": null,
            "visibility": null,
            "width": null
          }
        },
        "4ab0d6ee419247c883b0a1e5b6bcc5a9": {
          "model_module": "@jupyter-widgets/controls",
          "model_name": "ProgressStyleModel",
          "model_module_version": "1.5.0",
          "state": {
            "_model_module": "@jupyter-widgets/controls",
            "_model_module_version": "1.5.0",
            "_model_name": "ProgressStyleModel",
            "_view_count": null,
            "_view_module": "@jupyter-widgets/base",
            "_view_module_version": "1.2.0",
            "_view_name": "StyleView",
            "bar_color": null,
            "description_width": ""
          }
        },
        "4b3208e29d1b4928af97e180b962834b": {
          "model_module": "@jupyter-widgets/base",
          "model_name": "LayoutModel",
          "model_module_version": "1.2.0",
          "state": {
            "_model_module": "@jupyter-widgets/base",
            "_model_module_version": "1.2.0",
            "_model_name": "LayoutModel",
            "_view_count": null,
            "_view_module": "@jupyter-widgets/base",
            "_view_module_version": "1.2.0",
            "_view_name": "LayoutView",
            "align_content": null,
            "align_items": null,
            "align_self": null,
            "border": null,
            "bottom": null,
            "display": null,
            "flex": null,
            "flex_flow": null,
            "grid_area": null,
            "grid_auto_columns": null,
            "grid_auto_flow": null,
            "grid_auto_rows": null,
            "grid_column": null,
            "grid_gap": null,
            "grid_row": null,
            "grid_template_areas": null,
            "grid_template_columns": null,
            "grid_template_rows": null,
            "height": null,
            "justify_content": null,
            "justify_items": null,
            "left": null,
            "margin": null,
            "max_height": null,
            "max_width": null,
            "min_height": null,
            "min_width": null,
            "object_fit": null,
            "object_position": null,
            "order": null,
            "overflow": null,
            "overflow_x": null,
            "overflow_y": null,
            "padding": null,
            "right": null,
            "top": null,
            "visibility": null,
            "width": null
          }
        },
        "86971f898de14092b68236728bb3325c": {
          "model_module": "@jupyter-widgets/controls",
          "model_name": "DescriptionStyleModel",
          "model_module_version": "1.5.0",
          "state": {
            "_model_module": "@jupyter-widgets/controls",
            "_model_module_version": "1.5.0",
            "_model_name": "DescriptionStyleModel",
            "_view_count": null,
            "_view_module": "@jupyter-widgets/base",
            "_view_module_version": "1.2.0",
            "_view_name": "StyleView",
            "description_width": ""
          }
        },
        "f79e173c4816443bb2211d6a61cae1b9": {
          "model_module": "@jupyter-widgets/controls",
          "model_name": "HBoxModel",
          "model_module_version": "1.5.0",
          "state": {
            "_dom_classes": [],
            "_model_module": "@jupyter-widgets/controls",
            "_model_module_version": "1.5.0",
            "_model_name": "HBoxModel",
            "_view_count": null,
            "_view_module": "@jupyter-widgets/controls",
            "_view_module_version": "1.5.0",
            "_view_name": "HBoxView",
            "box_style": "",
            "children": [
              "IPY_MODEL_396bb475338443cb88058a448e845f88",
              "IPY_MODEL_f5d0450f55a1415f899043e453694f2c",
              "IPY_MODEL_4a4824dcafce4912be23e8259893aaeb"
            ],
            "layout": "IPY_MODEL_4ce82abe10dd445199ee78d93e8c1f2d"
          }
        },
        "396bb475338443cb88058a448e845f88": {
          "model_module": "@jupyter-widgets/controls",
          "model_name": "HTMLModel",
          "model_module_version": "1.5.0",
          "state": {
            "_dom_classes": [],
            "_model_module": "@jupyter-widgets/controls",
            "_model_module_version": "1.5.0",
            "_model_name": "HTMLModel",
            "_view_count": null,
            "_view_module": "@jupyter-widgets/controls",
            "_view_module_version": "1.5.0",
            "_view_name": "HTMLView",
            "description": "",
            "description_tooltip": null,
            "layout": "IPY_MODEL_1a93918000754f74b47093835abef165",
            "placeholder": "​",
            "style": "IPY_MODEL_4d9f2bf3a89442f2a8b902de000b06e9",
            "value": "100%"
          }
        },
        "f5d0450f55a1415f899043e453694f2c": {
          "model_module": "@jupyter-widgets/controls",
          "model_name": "FloatProgressModel",
          "model_module_version": "1.5.0",
          "state": {
            "_dom_classes": [],
            "_model_module": "@jupyter-widgets/controls",
            "_model_module_version": "1.5.0",
            "_model_name": "FloatProgressModel",
            "_view_count": null,
            "_view_module": "@jupyter-widgets/controls",
            "_view_module_version": "1.5.0",
            "_view_name": "ProgressView",
            "bar_style": "success",
            "description": "",
            "description_tooltip": null,
            "layout": "IPY_MODEL_f0b5893a7722475d93a09fcbdd37acef",
            "max": 7,
            "min": 0,
            "orientation": "horizontal",
            "style": "IPY_MODEL_8205a682827249b48419bda6af1bcc1e",
            "value": 7
          }
        },
        "4a4824dcafce4912be23e8259893aaeb": {
          "model_module": "@jupyter-widgets/controls",
          "model_name": "HTMLModel",
          "model_module_version": "1.5.0",
          "state": {
            "_dom_classes": [],
            "_model_module": "@jupyter-widgets/controls",
            "_model_module_version": "1.5.0",
            "_model_name": "HTMLModel",
            "_view_count": null,
            "_view_module": "@jupyter-widgets/controls",
            "_view_module_version": "1.5.0",
            "_view_name": "HTMLView",
            "description": "",
            "description_tooltip": null,
            "layout": "IPY_MODEL_a8ec839ea62a485fb3804b3bb84cf00a",
            "placeholder": "​",
            "style": "IPY_MODEL_3eceffcb60c2405fb251b1998ae0b3a1",
            "value": " 7/7 [00:00&lt;00:00, 14.81it/s]"
          }
        },
        "4ce82abe10dd445199ee78d93e8c1f2d": {
          "model_module": "@jupyter-widgets/base",
          "model_name": "LayoutModel",
          "model_module_version": "1.2.0",
          "state": {
            "_model_module": "@jupyter-widgets/base",
            "_model_module_version": "1.2.0",
            "_model_name": "LayoutModel",
            "_view_count": null,
            "_view_module": "@jupyter-widgets/base",
            "_view_module_version": "1.2.0",
            "_view_name": "LayoutView",
            "align_content": null,
            "align_items": null,
            "align_self": null,
            "border": null,
            "bottom": null,
            "display": null,
            "flex": null,
            "flex_flow": null,
            "grid_area": null,
            "grid_auto_columns": null,
            "grid_auto_flow": null,
            "grid_auto_rows": null,
            "grid_column": null,
            "grid_gap": null,
            "grid_row": null,
            "grid_template_areas": null,
            "grid_template_columns": null,
            "grid_template_rows": null,
            "height": null,
            "justify_content": null,
            "justify_items": null,
            "left": null,
            "margin": null,
            "max_height": null,
            "max_width": null,
            "min_height": null,
            "min_width": null,
            "object_fit": null,
            "object_position": null,
            "order": null,
            "overflow": null,
            "overflow_x": null,
            "overflow_y": null,
            "padding": null,
            "right": null,
            "top": null,
            "visibility": null,
            "width": null
          }
        },
        "1a93918000754f74b47093835abef165": {
          "model_module": "@jupyter-widgets/base",
          "model_name": "LayoutModel",
          "model_module_version": "1.2.0",
          "state": {
            "_model_module": "@jupyter-widgets/base",
            "_model_module_version": "1.2.0",
            "_model_name": "LayoutModel",
            "_view_count": null,
            "_view_module": "@jupyter-widgets/base",
            "_view_module_version": "1.2.0",
            "_view_name": "LayoutView",
            "align_content": null,
            "align_items": null,
            "align_self": null,
            "border": null,
            "bottom": null,
            "display": null,
            "flex": null,
            "flex_flow": null,
            "grid_area": null,
            "grid_auto_columns": null,
            "grid_auto_flow": null,
            "grid_auto_rows": null,
            "grid_column": null,
            "grid_gap": null,
            "grid_row": null,
            "grid_template_areas": null,
            "grid_template_columns": null,
            "grid_template_rows": null,
            "height": null,
            "justify_content": null,
            "justify_items": null,
            "left": null,
            "margin": null,
            "max_height": null,
            "max_width": null,
            "min_height": null,
            "min_width": null,
            "object_fit": null,
            "object_position": null,
            "order": null,
            "overflow": null,
            "overflow_x": null,
            "overflow_y": null,
            "padding": null,
            "right": null,
            "top": null,
            "visibility": null,
            "width": null
          }
        },
        "4d9f2bf3a89442f2a8b902de000b06e9": {
          "model_module": "@jupyter-widgets/controls",
          "model_name": "DescriptionStyleModel",
          "model_module_version": "1.5.0",
          "state": {
            "_model_module": "@jupyter-widgets/controls",
            "_model_module_version": "1.5.0",
            "_model_name": "DescriptionStyleModel",
            "_view_count": null,
            "_view_module": "@jupyter-widgets/base",
            "_view_module_version": "1.2.0",
            "_view_name": "StyleView",
            "description_width": ""
          }
        },
        "f0b5893a7722475d93a09fcbdd37acef": {
          "model_module": "@jupyter-widgets/base",
          "model_name": "LayoutModel",
          "model_module_version": "1.2.0",
          "state": {
            "_model_module": "@jupyter-widgets/base",
            "_model_module_version": "1.2.0",
            "_model_name": "LayoutModel",
            "_view_count": null,
            "_view_module": "@jupyter-widgets/base",
            "_view_module_version": "1.2.0",
            "_view_name": "LayoutView",
            "align_content": null,
            "align_items": null,
            "align_self": null,
            "border": null,
            "bottom": null,
            "display": null,
            "flex": null,
            "flex_flow": null,
            "grid_area": null,
            "grid_auto_columns": null,
            "grid_auto_flow": null,
            "grid_auto_rows": null,
            "grid_column": null,
            "grid_gap": null,
            "grid_row": null,
            "grid_template_areas": null,
            "grid_template_columns": null,
            "grid_template_rows": null,
            "height": null,
            "justify_content": null,
            "justify_items": null,
            "left": null,
            "margin": null,
            "max_height": null,
            "max_width": null,
            "min_height": null,
            "min_width": null,
            "object_fit": null,
            "object_position": null,
            "order": null,
            "overflow": null,
            "overflow_x": null,
            "overflow_y": null,
            "padding": null,
            "right": null,
            "top": null,
            "visibility": null,
            "width": null
          }
        },
        "8205a682827249b48419bda6af1bcc1e": {
          "model_module": "@jupyter-widgets/controls",
          "model_name": "ProgressStyleModel",
          "model_module_version": "1.5.0",
          "state": {
            "_model_module": "@jupyter-widgets/controls",
            "_model_module_version": "1.5.0",
            "_model_name": "ProgressStyleModel",
            "_view_count": null,
            "_view_module": "@jupyter-widgets/base",
            "_view_module_version": "1.2.0",
            "_view_name": "StyleView",
            "bar_color": null,
            "description_width": ""
          }
        },
        "a8ec839ea62a485fb3804b3bb84cf00a": {
          "model_module": "@jupyter-widgets/base",
          "model_name": "LayoutModel",
          "model_module_version": "1.2.0",
          "state": {
            "_model_module": "@jupyter-widgets/base",
            "_model_module_version": "1.2.0",
            "_model_name": "LayoutModel",
            "_view_count": null,
            "_view_module": "@jupyter-widgets/base",
            "_view_module_version": "1.2.0",
            "_view_name": "LayoutView",
            "align_content": null,
            "align_items": null,
            "align_self": null,
            "border": null,
            "bottom": null,
            "display": null,
            "flex": null,
            "flex_flow": null,
            "grid_area": null,
            "grid_auto_columns": null,
            "grid_auto_flow": null,
            "grid_auto_rows": null,
            "grid_column": null,
            "grid_gap": null,
            "grid_row": null,
            "grid_template_areas": null,
            "grid_template_columns": null,
            "grid_template_rows": null,
            "height": null,
            "justify_content": null,
            "justify_items": null,
            "left": null,
            "margin": null,
            "max_height": null,
            "max_width": null,
            "min_height": null,
            "min_width": null,
            "object_fit": null,
            "object_position": null,
            "order": null,
            "overflow": null,
            "overflow_x": null,
            "overflow_y": null,
            "padding": null,
            "right": null,
            "top": null,
            "visibility": null,
            "width": null
          }
        },
        "3eceffcb60c2405fb251b1998ae0b3a1": {
          "model_module": "@jupyter-widgets/controls",
          "model_name": "DescriptionStyleModel",
          "model_module_version": "1.5.0",
          "state": {
            "_model_module": "@jupyter-widgets/controls",
            "_model_module_version": "1.5.0",
            "_model_name": "DescriptionStyleModel",
            "_view_count": null,
            "_view_module": "@jupyter-widgets/base",
            "_view_module_version": "1.2.0",
            "_view_name": "StyleView",
            "description_width": ""
          }
        }
      }
    }
  },
  "cells": [
    {
      "cell_type": "markdown",
      "source": [
        "# Эффективный DL\n",
        "## Семинар 2.\n",
        "### Аппаратное обеспечение и низкоуровневые решения"
      ],
      "metadata": {
        "id": "BrMvxtYYsBlW"
      }
    },
    {
      "cell_type": "code",
      "source": [
        "import torch\n",
        "from torch import nn\n",
        "import torch.nn.functional as F\n",
        "from torch.utils.data import DataLoader\n",
        "from torchvision import datasets\n",
        "from torchvision.transforms import ToTensor\n",
        "from tqdm.auto import trange\n",
        "\n",
        "from torch.profiler import profile, ProfilerActivity, schedule"
      ],
      "metadata": {
        "id": "BJJHYD8tsApz"
      },
      "execution_count": 15,
      "outputs": []
    },
    {
      "cell_type": "code",
      "source": [
        "device = \"cuda\""
      ],
      "metadata": {
        "id": "HzxAMftWsEJd"
      },
      "execution_count": 3,
      "outputs": []
    },
    {
      "cell_type": "code",
      "source": [
        "a = torch.randn(1024, 1024, device=device)\n",
        "b = torch.randn(1024, 1024, device=device)"
      ],
      "metadata": {
        "id": "VIC2W0vDHuKX"
      },
      "execution_count": 4,
      "outputs": []
    },
    {
      "cell_type": "code",
      "source": [
        "with profile(activities=[ProfilerActivity.CPU, ProfilerActivity.CUDA]) as prof:\n",
        "    c = a.T @ b"
      ],
      "metadata": {
        "id": "OSvS7ut_HtyQ"
      },
      "execution_count": 11,
      "outputs": []
    },
    {
      "cell_type": "code",
      "source": [
        "training_data = datasets.FashionMNIST(\n",
        "    root=\"mnist\",\n",
        "    train=True,\n",
        "    download=True,\n",
        "    transform=ToTensor(),\n",
        ")\n",
        "loader = DataLoader(training_data, batch_size=256)"
      ],
      "metadata": {
        "colab": {
          "base_uri": "https://localhost:8080/"
        },
        "id": "es76QTFysGs6",
        "outputId": "2736f543-3f62-4ba5-8f9f-82b4592e27ff"
      },
      "execution_count": 12,
      "outputs": [
        {
          "output_type": "stream",
          "name": "stdout",
          "text": [
            "Downloading http://fashion-mnist.s3-website.eu-central-1.amazonaws.com/train-images-idx3-ubyte.gz\n",
            "Downloading http://fashion-mnist.s3-website.eu-central-1.amazonaws.com/train-images-idx3-ubyte.gz to mnist/FashionMNIST/raw/train-images-idx3-ubyte.gz\n"
          ]
        },
        {
          "output_type": "stream",
          "name": "stderr",
          "text": [
            "100%|██████████| 26421880/26421880 [00:02<00:00, 12054432.11it/s]\n"
          ]
        },
        {
          "output_type": "stream",
          "name": "stdout",
          "text": [
            "Extracting mnist/FashionMNIST/raw/train-images-idx3-ubyte.gz to mnist/FashionMNIST/raw\n",
            "\n",
            "Downloading http://fashion-mnist.s3-website.eu-central-1.amazonaws.com/train-labels-idx1-ubyte.gz\n",
            "Downloading http://fashion-mnist.s3-website.eu-central-1.amazonaws.com/train-labels-idx1-ubyte.gz to mnist/FashionMNIST/raw/train-labels-idx1-ubyte.gz\n"
          ]
        },
        {
          "output_type": "stream",
          "name": "stderr",
          "text": [
            "100%|██████████| 29515/29515 [00:00<00:00, 202597.35it/s]\n"
          ]
        },
        {
          "output_type": "stream",
          "name": "stdout",
          "text": [
            "Extracting mnist/FashionMNIST/raw/train-labels-idx1-ubyte.gz to mnist/FashionMNIST/raw\n",
            "\n",
            "Downloading http://fashion-mnist.s3-website.eu-central-1.amazonaws.com/t10k-images-idx3-ubyte.gz\n",
            "Downloading http://fashion-mnist.s3-website.eu-central-1.amazonaws.com/t10k-images-idx3-ubyte.gz to mnist/FashionMNIST/raw/t10k-images-idx3-ubyte.gz\n"
          ]
        },
        {
          "output_type": "stream",
          "name": "stderr",
          "text": [
            "100%|██████████| 4422102/4422102 [00:01<00:00, 3782390.48it/s]\n"
          ]
        },
        {
          "output_type": "stream",
          "name": "stdout",
          "text": [
            "Extracting mnist/FashionMNIST/raw/t10k-images-idx3-ubyte.gz to mnist/FashionMNIST/raw\n",
            "\n",
            "Downloading http://fashion-mnist.s3-website.eu-central-1.amazonaws.com/t10k-labels-idx1-ubyte.gz\n",
            "Downloading http://fashion-mnist.s3-website.eu-central-1.amazonaws.com/t10k-labels-idx1-ubyte.gz to mnist/FashionMNIST/raw/t10k-labels-idx1-ubyte.gz\n"
          ]
        },
        {
          "output_type": "stream",
          "name": "stderr",
          "text": [
            "100%|██████████| 5148/5148 [00:00<00:00, 5455350.43it/s]"
          ]
        },
        {
          "output_type": "stream",
          "name": "stdout",
          "text": [
            "Extracting mnist/FashionMNIST/raw/t10k-labels-idx1-ubyte.gz to mnist/FashionMNIST/raw\n",
            "\n"
          ]
        },
        {
          "output_type": "stream",
          "name": "stderr",
          "text": [
            "\n"
          ]
        }
      ]
    },
    {
      "cell_type": "code",
      "source": [
        "class Net(nn.Module):\n",
        "    def __init__(self):\n",
        "        super(Net, self).__init__()\n",
        "        self.conv1 = nn.Conv2d(1, 32, 3, 1)\n",
        "        self.conv2 = nn.Conv2d(32, 64, 3, 1)\n",
        "        self.dropout1 = nn.Dropout(0.25)\n",
        "        self.dropout2 = nn.Dropout(0.5)\n",
        "        self.fc1 = nn.Linear(9216, 128)\n",
        "        self.fc2 = nn.Linear(128, 10)\n",
        "\n",
        "    def forward(self, x):\n",
        "        x = self.conv1(x)\n",
        "        x = F.relu(x)\n",
        "        x = self.conv2(x)\n",
        "        x = F.relu(x)\n",
        "        x = F.max_pool2d(x, 2)\n",
        "        x = self.dropout1(x)\n",
        "        x = torch.flatten(x, 1)\n",
        "        x = self.fc1(x)\n",
        "        x = F.relu(x)\n",
        "        x = self.dropout2(x)\n",
        "        x = self.fc2(x)\n",
        "        return x"
      ],
      "metadata": {
        "id": "yvP1hHe1sJQb"
      },
      "execution_count": 13,
      "outputs": []
    },
    {
      "cell_type": "code",
      "source": [
        "net = Net().to(device)\n",
        "opt = torch.optim.Adam(net.parameters())\n",
        "loss_fn = nn.CrossEntropyLoss()"
      ],
      "metadata": {
        "id": "y9i2gCkWsOwF"
      },
      "execution_count": 14,
      "outputs": []
    },
    {
      "cell_type": "code",
      "source": [
        "def on_trace_ready(prof):\n",
        "    prof.export_chrome_trace(\"trace.json\")"
      ],
      "metadata": {
        "id": "kOcO6KBBLuw3"
      },
      "execution_count": 17,
      "outputs": []
    },
    {
      "cell_type": "markdown",
      "source": [
        "`skip_first` + `repeat` * [`wait` (no tracing) + `warmup` (tracing, but not recording) + `active` (recording)]\n",
        "\n",
        "[Perfetto trace visualizer](https://ui.perfetto.dev)"
      ],
      "metadata": {
        "id": "uCeZifYjYGsN"
      }
    },
    {
      "cell_type": "code",
      "source": [
        "with profile(\n",
        "    activities=[ProfilerActivity.CPU, ProfilerActivity.CUDA],\n",
        "    schedule=schedule(\n",
        "        skip_first=1,\n",
        "        wait=1,\n",
        "        warmup=1,\n",
        "        active=3,\n",
        "        repeat=1,\n",
        "    ),\n",
        "    with_stack=True,\n",
        "    record_shapes=True,\n",
        "    on_trace_ready=on_trace_ready,\n",
        ") as prof:\n",
        "    for _, (data, label) in zip(trange(7), loader):\n",
        "        data = data.to(device)\n",
        "        label = label.to(device)\n",
        "        pred = net(data)\n",
        "        loss = loss_fn(pred, label)\n",
        "        opt.zero_grad()\n",
        "        loss.backward()\n",
        "        opt.step()\n",
        "\n",
        "        prof.step()"
      ],
      "metadata": {
        "colab": {
          "base_uri": "https://localhost:8080/",
          "height": 49,
          "referenced_widgets": [
            "ee43b7bc0f5e4aa09a643c73b089c3c2",
            "127b9ae3f8ea46ab8bdbb99aeecdf823",
            "f4ac45bd80b54cf3a0ab0fa83917b3ed",
            "97cc80d49a134fcbb7a4f695c4d2aa5e",
            "b3516ac4fa3b4d288f7110709bec451d",
            "a601de3172e549d5be09d039db0fa330",
            "5d802d34cdc240edbf0c27c7b41398d1",
            "969d04d63b304d7f987cd5db6d6320e8",
            "18139135ae194814895068080b7025d2",
            "471bcc3f144f40cab0cbef12fb76b5a6",
            "e5d06bad6c8f4c12ae2c6a41d9995b44"
          ]
        },
        "id": "ACbnzK_4satF",
        "outputId": "bea6dd4c-479c-4cae-acc8-27ab26927c23"
      },
      "execution_count": 18,
      "outputs": [
        {
          "output_type": "display_data",
          "data": {
            "text/plain": [
              "  0%|          | 0/7 [00:00<?, ?it/s]"
            ],
            "application/vnd.jupyter.widget-view+json": {
              "version_major": 2,
              "version_minor": 0,
              "model_id": "ee43b7bc0f5e4aa09a643c73b089c3c2"
            }
          },
          "metadata": {}
        }
      ]
    },
    {
      "cell_type": "markdown",
      "source": [
        "## Data loading"
      ],
      "metadata": {
        "id": "N8kMhsO-NE5Q"
      }
    },
    {
      "cell_type": "code",
      "source": [
        "training_data = datasets.FashionMNIST(\n",
        "    root=\"mnist\",\n",
        "    train=True,\n",
        "    download=True,\n",
        "    transform=ToTensor(),\n",
        ")\n",
        "loader = DataLoader(training_data, batch_size=256, num_workers=4)"
      ],
      "metadata": {
        "colab": {
          "base_uri": "https://localhost:8080/"
        },
        "id": "HI0rGQNssjrt",
        "outputId": "d6909348-39ea-40e4-ceb0-9d9c7223b870"
      },
      "execution_count": 19,
      "outputs": [
        {
          "output_type": "stream",
          "name": "stderr",
          "text": [
            "/usr/local/lib/python3.10/dist-packages/torch/utils/data/dataloader.py:558: UserWarning: This DataLoader will create 4 worker processes in total. Our suggested max number of worker in current system is 2, which is smaller than what this DataLoader is going to create. Please be aware that excessive worker creation might get DataLoader running slow or even freeze, lower the worker number to avoid potential slowness/freeze if necessary.\n",
            "  warnings.warn(_create_warning_msg(\n"
          ]
        }
      ]
    },
    {
      "cell_type": "code",
      "source": [
        "class Net(nn.Module):\n",
        "    def __init__(self):\n",
        "        super(Net, self).__init__()\n",
        "        self.conv1 = nn.Conv2d(1, 32, 3, 1)\n",
        "        self.conv2 = nn.Conv2d(32, 64, 3, 1)\n",
        "        self.dropout1 = nn.Dropout(0.25)\n",
        "        self.dropout2 = nn.Dropout(0.5)\n",
        "        self.fc1 = nn.Linear(9216, 128)\n",
        "        self.fc2 = nn.Linear(128, 10)\n",
        "\n",
        "    def forward(self, x):\n",
        "        x = self.conv1(x)\n",
        "        x = F.relu(x)\n",
        "        x = self.conv2(x)\n",
        "        x = F.relu(x)\n",
        "        x = F.max_pool2d(x, 2)\n",
        "        x = self.dropout1(x)\n",
        "        x = torch.flatten(x, 1)\n",
        "        x = self.fc1(x)\n",
        "        x = F.relu(x)\n",
        "        x = self.dropout2(x)\n",
        "        x = self.fc2(x)\n",
        "        return x"
      ],
      "metadata": {
        "id": "XXmRTjsKNBWh"
      },
      "execution_count": 20,
      "outputs": []
    },
    {
      "cell_type": "code",
      "source": [
        "net = Net().to(device)\n",
        "opt = torch.optim.Adam(net.parameters())\n",
        "loss_fn = nn.CrossEntropyLoss()"
      ],
      "metadata": {
        "id": "7wFHBHFANBWi"
      },
      "execution_count": 21,
      "outputs": []
    },
    {
      "cell_type": "code",
      "source": [
        "def on_trace_ready(prof):\n",
        "    prof.export_chrome_trace(\"trace.json\")"
      ],
      "metadata": {
        "id": "L-isOP3hNBWi"
      },
      "execution_count": 22,
      "outputs": []
    },
    {
      "cell_type": "code",
      "source": [
        "with profile(\n",
        "    activities=[ProfilerActivity.CPU, ProfilerActivity.CUDA],\n",
        "    schedule=schedule(\n",
        "        skip_first=1,\n",
        "        wait=1,\n",
        "        warmup=1,\n",
        "        active=3,\n",
        "        repeat=1,\n",
        "    ),\n",
        "    record_shapes=True,\n",
        "    on_trace_ready=on_trace_ready,\n",
        ") as prof:\n",
        "    for _, (data, label) in zip(trange(7), loader):\n",
        "        data = data.to(device)\n",
        "        label = label.to(device)\n",
        "        pred = net(data)\n",
        "        loss = loss_fn(pred, label)\n",
        "        opt.zero_grad()\n",
        "        loss.backward()\n",
        "        opt.step()\n",
        "\n",
        "        prof.step()"
      ],
      "metadata": {
        "colab": {
          "base_uri": "https://localhost:8080/",
          "height": 105,
          "referenced_widgets": [
            "e7a5d8c56d32432cb238594e7b5f12a1",
            "cf9a3b32283b4bb0b42c2e083b5e868a",
            "a3f054f922b24e4284609937e9f134c5",
            "48ec8596fc984132b767a9e271f3ddcf",
            "4eb717557c6d4e98aa582ffaa41fb73e",
            "a06b9af227da49e3827b50f2a47803b1",
            "edd3ceddf4fb4126868124988302a493",
            "2bf9b2dfff7c4d0d87b391e6d8262fd2",
            "8e7a1e5f813942898488531456381715",
            "c90cb39b099a41129601d828621584c7",
            "60d0a3ad23c6455b85c31f208a729d52"
          ]
        },
        "outputId": "578528ff-8e07-4ba2-fec5-36628002da73",
        "id": "XNtMTa9kNBWi"
      },
      "execution_count": 23,
      "outputs": [
        {
          "output_type": "display_data",
          "data": {
            "text/plain": [
              "  0%|          | 0/7 [00:00<?, ?it/s]"
            ],
            "application/vnd.jupyter.widget-view+json": {
              "version_major": 2,
              "version_minor": 0,
              "model_id": "e7a5d8c56d32432cb238594e7b5f12a1"
            }
          },
          "metadata": {}
        },
        {
          "output_type": "stream",
          "name": "stderr",
          "text": [
            "/usr/lib/python3.10/multiprocessing/popen_fork.py:66: RuntimeWarning: os.fork() was called. os.fork() is incompatible with multithreaded code, and JAX is multithreaded, so this will likely lead to a deadlock.\n",
            "  self.pid = os.fork()\n"
          ]
        }
      ]
    },
    {
      "cell_type": "markdown",
      "source": [
        "## Less features for linear"
      ],
      "metadata": {
        "id": "tJDE8va5OQKL"
      }
    },
    {
      "cell_type": "code",
      "source": [
        "class Net(nn.Module):\n",
        "    def __init__(self):\n",
        "        super(Net, self).__init__()\n",
        "        self.conv1 = nn.Conv2d(1, 32, 3, 1)\n",
        "        self.conv2 = nn.Conv2d(32, 64, 3, 1)\n",
        "        self.dropout1 = nn.Dropout(0.25)\n",
        "        self.dropout2 = nn.Dropout(0.5)\n",
        "        self.fc1 = nn.Linear(2304, 128)\n",
        "        self.fc2 = nn.Linear(128, 10)\n",
        "\n",
        "    def forward(self, x):\n",
        "        x = self.conv1(x)\n",
        "        x = F.relu(x)\n",
        "        x = self.conv2(x)\n",
        "        x = F.relu(x)\n",
        "        x = F.max_pool2d(x, 4)\n",
        "        x = self.dropout1(x)\n",
        "        x = torch.flatten(x, 1)\n",
        "        x = self.fc1(x)\n",
        "        x = F.relu(x)\n",
        "        x = self.dropout2(x)\n",
        "        x = self.fc2(x)\n",
        "        return x"
      ],
      "metadata": {
        "id": "DL2pjfoxOSxX"
      },
      "execution_count": 25,
      "outputs": []
    },
    {
      "cell_type": "code",
      "source": [
        "net = Net().to(device)\n",
        "opt = torch.optim.Adam(net.parameters())\n",
        "loss_fn = nn.CrossEntropyLoss()"
      ],
      "metadata": {
        "id": "enUAhmJ1OSxY"
      },
      "execution_count": 26,
      "outputs": []
    },
    {
      "cell_type": "code",
      "source": [
        "def on_trace_ready(prof):\n",
        "    prof.export_chrome_trace(\"trace.json\")"
      ],
      "metadata": {
        "id": "xYmzgBILOSxY"
      },
      "execution_count": 27,
      "outputs": []
    },
    {
      "cell_type": "code",
      "source": [
        "with profile(\n",
        "    activities=[ProfilerActivity.CPU, ProfilerActivity.CUDA],\n",
        "    schedule=schedule(\n",
        "        skip_first=1,\n",
        "        wait=1,\n",
        "        warmup=1,\n",
        "        active=3,\n",
        "        repeat=1,\n",
        "    ),\n",
        "    record_shapes=True,\n",
        "    on_trace_ready=on_trace_ready,\n",
        ") as prof:\n",
        "    for _, (data, label) in zip(trange(7), loader):\n",
        "        data = data.to(device)\n",
        "        label = label.to(device)\n",
        "        pred = net(data)\n",
        "        loss = loss_fn(pred, label)\n",
        "        opt.zero_grad()\n",
        "        loss.backward()\n",
        "        opt.step()\n",
        "\n",
        "        prof.step()"
      ],
      "metadata": {
        "colab": {
          "base_uri": "https://localhost:8080/",
          "height": 49,
          "referenced_widgets": [
            "283e5de031584403a11dd1117a2d39a0",
            "144ec056b65e464cb85733282fd5fd74",
            "11580489a5c049b9b49cd1b50b5329f3",
            "a72236c906f04bd3946f950ac4847818",
            "1723fb5043f44f7484a8e72662839275",
            "a2a74c5f6466493398407900413586a5",
            "3fe7039f08c84b03b7167ead4cb86628",
            "71bb1649cd864d60a312c3a4db16b76f",
            "733ae7a986fe4cb58691ae9c9d0bba8f",
            "61fb6e5f3c5d43dc90b53f4054372fb5",
            "b7d84a0160b0441698dc6c131e36576d"
          ]
        },
        "outputId": "ac2d23e1-5775-4c67-c2ef-46556beb7168",
        "id": "T-WbJg-zOSxZ"
      },
      "execution_count": 28,
      "outputs": [
        {
          "output_type": "display_data",
          "data": {
            "text/plain": [
              "  0%|          | 0/7 [00:00<?, ?it/s]"
            ],
            "application/vnd.jupyter.widget-view+json": {
              "version_major": 2,
              "version_minor": 0,
              "model_id": "283e5de031584403a11dd1117a2d39a0"
            }
          },
          "metadata": {}
        }
      ]
    },
    {
      "cell_type": "markdown",
      "source": [
        "## less batch size"
      ],
      "metadata": {
        "id": "BLKgxaP7Oo6S"
      }
    },
    {
      "cell_type": "code",
      "source": [
        "training_data = datasets.FashionMNIST(\n",
        "    root=\"mnist\",\n",
        "    train=True,\n",
        "    download=True,\n",
        "    transform=ToTensor(),\n",
        ")\n",
        "loader = DataLoader(training_data, batch_size=64, num_workers=4)"
      ],
      "metadata": {
        "id": "TFdVXJCPOuBk"
      },
      "execution_count": 30,
      "outputs": []
    },
    {
      "cell_type": "code",
      "source": [
        "class Net(nn.Module):\n",
        "    def __init__(self):\n",
        "        super(Net, self).__init__()\n",
        "        self.conv1 = nn.Conv2d(1, 32, 3, 1)\n",
        "        self.conv2 = nn.Conv2d(32, 64, 3, 1)\n",
        "        self.dropout1 = nn.Dropout(0.25)\n",
        "        self.dropout2 = nn.Dropout(0.5)\n",
        "        self.fc1 = nn.Linear(2304, 128)\n",
        "        self.fc2 = nn.Linear(128, 10)\n",
        "\n",
        "    def forward(self, x):\n",
        "        x = self.conv1(x)\n",
        "        x = F.relu(x)\n",
        "        x = self.conv2(x)\n",
        "        x = F.relu(x)\n",
        "        x = F.max_pool2d(x, 4)\n",
        "        x = self.dropout1(x)\n",
        "        x = torch.flatten(x, 1)\n",
        "        x = self.fc1(x)\n",
        "        x = F.relu(x)\n",
        "        x = self.dropout2(x)\n",
        "        x = self.fc2(x)\n",
        "        return x"
      ],
      "metadata": {
        "id": "4xQRMtirOuBk"
      },
      "execution_count": 31,
      "outputs": []
    },
    {
      "cell_type": "code",
      "source": [
        "net = Net().to(device)\n",
        "opt = torch.optim.Adam(net.parameters())\n",
        "loss_fn = nn.CrossEntropyLoss()"
      ],
      "metadata": {
        "id": "FZl5iDZXOuBk"
      },
      "execution_count": 32,
      "outputs": []
    },
    {
      "cell_type": "code",
      "source": [
        "def on_trace_ready(prof):\n",
        "    prof.export_chrome_trace(\"trace.json\")"
      ],
      "metadata": {
        "id": "pD_GOdfqOuBl"
      },
      "execution_count": 33,
      "outputs": []
    },
    {
      "cell_type": "code",
      "source": [
        "with profile(\n",
        "    activities=[ProfilerActivity.CPU, ProfilerActivity.CUDA],\n",
        "    schedule=schedule(\n",
        "        skip_first=1,\n",
        "        wait=1,\n",
        "        warmup=1,\n",
        "        active=3,\n",
        "        repeat=1,\n",
        "    ),\n",
        "    record_shapes=True,\n",
        "    on_trace_ready=on_trace_ready,\n",
        ") as prof:\n",
        "    for _, (data, label) in zip(trange(7), loader):\n",
        "        data = data.to(device)\n",
        "        label = label.to(device)\n",
        "        pred = net(data)\n",
        "        loss = loss_fn(pred, label)\n",
        "        opt.zero_grad()\n",
        "        loss.backward()\n",
        "        opt.step()\n",
        "\n",
        "        prof.step()"
      ],
      "metadata": {
        "colab": {
          "base_uri": "https://localhost:8080/",
          "height": 49,
          "referenced_widgets": [
            "7c9c808f42b345978174a824b85208c2",
            "3a5a5404a9924c85aa62a212228c3af0",
            "6d0ff603a79142018046b3fba50ffce8",
            "6a2de779e9814833acb0ba5c2e5edc27",
            "03803a6471184e5285196529a4b912d7",
            "30a604dad31e40b3b796227699ac031d",
            "281afd2d205e4cd488c30cd40abd2cfd",
            "07657ae915564986bd7061d8b420c25a",
            "b3646910ecbf4ab0bd67322d427c0402",
            "f1882b149bed435490c02300bf3c3f88",
            "c3756a1ab40b48c4bb9fc18ce874db1d"
          ]
        },
        "outputId": "eb3a2472-99d8-467f-c062-11ed3d7b65d2",
        "id": "J8bhz325OuBl"
      },
      "execution_count": 34,
      "outputs": [
        {
          "output_type": "display_data",
          "data": {
            "text/plain": [
              "  0%|          | 0/7 [00:00<?, ?it/s]"
            ],
            "application/vnd.jupyter.widget-view+json": {
              "version_major": 2,
              "version_minor": 0,
              "model_id": "7c9c808f42b345978174a824b85208c2"
            }
          },
          "metadata": {}
        }
      ]
    },
    {
      "cell_type": "markdown",
      "source": [
        "## compile"
      ],
      "metadata": {
        "id": "0RgWuV29RJ4L"
      }
    },
    {
      "cell_type": "code",
      "source": [
        "net = Net().to(device)\n",
        "net.compile()\n",
        "opt = torch.optim.Adam(net.parameters())\n",
        "loss_fn = nn.CrossEntropyLoss()"
      ],
      "metadata": {
        "colab": {
          "base_uri": "https://localhost:8080/"
        },
        "id": "2hhfu0I-RJK2",
        "outputId": "2026758a-67c6-4f15-8939-f66265e75bcc"
      },
      "execution_count": 35,
      "outputs": [
        {
          "output_type": "stream",
          "name": "stderr",
          "text": [
            "/usr/lib/python3.10/multiprocessing/popen_fork.py:66: RuntimeWarning: os.fork() was called. os.fork() is incompatible with multithreaded code, and JAX is multithreaded, so this will likely lead to a deadlock.\n",
            "  self.pid = os.fork()\n"
          ]
        }
      ]
    },
    {
      "cell_type": "code",
      "source": [
        "def on_trace_ready(prof):\n",
        "    prof.export_chrome_trace(\"trace.json\")"
      ],
      "metadata": {
        "id": "_2F6ciRFRJK2"
      },
      "execution_count": 36,
      "outputs": []
    },
    {
      "cell_type": "code",
      "source": [
        "with profile(\n",
        "    activities=[ProfilerActivity.CPU, ProfilerActivity.CUDA],\n",
        "    schedule=schedule(\n",
        "        skip_first=1,\n",
        "        wait=1,\n",
        "        warmup=1,\n",
        "        active=3,\n",
        "        repeat=1,\n",
        "    ),\n",
        "    record_shapes=True,\n",
        "    on_trace_ready=on_trace_ready,\n",
        ") as prof:\n",
        "    for _, (data, label) in zip(trange(7), loader):\n",
        "        data = data.to(device)\n",
        "        label = label.to(device)\n",
        "        pred = net(data)\n",
        "        loss = loss_fn(pred, label)\n",
        "        opt.zero_grad()\n",
        "        loss.backward()\n",
        "        opt.step()\n",
        "\n",
        "        prof.step()"
      ],
      "metadata": {
        "colab": {
          "base_uri": "https://localhost:8080/",
          "height": 105,
          "referenced_widgets": [
            "f790569724654d1995bbae761f555c41",
            "f14dda62d5ef40369537fd5646187541",
            "ac2a43a20c2a446c891c98a42e0a217c",
            "6af0f9f557b446d2bc430c7c8022a4ea",
            "b7e02e49e47544ad9b891f84d5cdda7d",
            "38cf6ee82f324eb9be1a24097ae93adb",
            "cce76c5c04474dcb87aec9f8b65b8035",
            "b567ba2c11aa4c27ad1e6d065c7bf3d3",
            "4ab0d6ee419247c883b0a1e5b6bcc5a9",
            "4b3208e29d1b4928af97e180b962834b",
            "86971f898de14092b68236728bb3325c"
          ]
        },
        "outputId": "ac49f606-8362-412b-9bdd-ef8bfe12c919",
        "id": "3XMYz3M1RJK2"
      },
      "execution_count": 37,
      "outputs": [
        {
          "output_type": "display_data",
          "data": {
            "text/plain": [
              "  0%|          | 0/7 [00:00<?, ?it/s]"
            ],
            "application/vnd.jupyter.widget-view+json": {
              "version_major": 2,
              "version_minor": 0,
              "model_id": "f790569724654d1995bbae761f555c41"
            }
          },
          "metadata": {}
        },
        {
          "output_type": "stream",
          "name": "stderr",
          "text": [
            "/usr/local/lib/python3.10/dist-packages/torch/utils/data/dataloader.py:558: UserWarning: This DataLoader will create 4 worker processes in total. Our suggested max number of worker in current system is 2, which is smaller than what this DataLoader is going to create. Please be aware that excessive worker creation might get DataLoader running slow or even freeze, lower the worker number to avoid potential slowness/freeze if necessary.\n",
            "  warnings.warn(_create_warning_msg(\n"
          ]
        }
      ]
    },
    {
      "cell_type": "markdown",
      "source": [
        "## report"
      ],
      "metadata": {
        "id": "n88oSGgMSddi"
      }
    },
    {
      "cell_type": "code",
      "source": [
        "net = Net().to(device)\n",
        "opt = torch.optim.Adam(net.parameters())\n",
        "loss_fn = nn.CrossEntropyLoss()"
      ],
      "metadata": {
        "id": "TDwhz0piShQL"
      },
      "execution_count": 38,
      "outputs": []
    },
    {
      "cell_type": "code",
      "source": [
        "def on_trace_ready(prof):\n",
        "    prof.export_chrome_trace(\"trace.json\")\n",
        "    print(prof.key_averages().table(sort_by=\"cuda_time_total\"))"
      ],
      "metadata": {
        "id": "FB9AGnu8ShQL"
      },
      "execution_count": 40,
      "outputs": []
    },
    {
      "cell_type": "code",
      "source": [
        "with profile(\n",
        "    activities=[ProfilerActivity.CPU, ProfilerActivity.CUDA],\n",
        "    schedule=schedule(\n",
        "        skip_first=1,\n",
        "        wait=1,\n",
        "        warmup=1,\n",
        "        active=3,\n",
        "        repeat=1,\n",
        "    ),\n",
        "    record_shapes=True,\n",
        "    with_flops=True,\n",
        "    profile_memory=True,\n",
        "    on_trace_ready=on_trace_ready,\n",
        ") as prof:\n",
        "    for _, (data, label) in zip(trange(7), loader):\n",
        "        data = data.to(device)\n",
        "        label = label.to(device)\n",
        "        pred = net(data)\n",
        "        loss = loss_fn(pred, label)\n",
        "        opt.zero_grad()\n",
        "        loss.backward()\n",
        "        opt.step()\n",
        "\n",
        "        prof.step()"
      ],
      "metadata": {
        "colab": {
          "base_uri": "https://localhost:8080/",
          "height": 1000,
          "referenced_widgets": [
            "f79e173c4816443bb2211d6a61cae1b9",
            "396bb475338443cb88058a448e845f88",
            "f5d0450f55a1415f899043e453694f2c",
            "4a4824dcafce4912be23e8259893aaeb",
            "4ce82abe10dd445199ee78d93e8c1f2d",
            "1a93918000754f74b47093835abef165",
            "4d9f2bf3a89442f2a8b902de000b06e9",
            "f0b5893a7722475d93a09fcbdd37acef",
            "8205a682827249b48419bda6af1bcc1e",
            "a8ec839ea62a485fb3804b3bb84cf00a",
            "3eceffcb60c2405fb251b1998ae0b3a1"
          ]
        },
        "outputId": "8e61b308-9e60-4cb4-d58a-fe3619159e93",
        "id": "INJJTDNTShQM"
      },
      "execution_count": 43,
      "outputs": [
        {
          "output_type": "display_data",
          "data": {
            "text/plain": [
              "  0%|          | 0/7 [00:00<?, ?it/s]"
            ],
            "application/vnd.jupyter.widget-view+json": {
              "version_major": 2,
              "version_minor": 0,
              "model_id": "f79e173c4816443bb2211d6a61cae1b9"
            }
          },
          "metadata": {}
        },
        {
          "output_type": "stream",
          "name": "stderr",
          "text": [
            "/usr/local/lib/python3.10/dist-packages/torch/utils/data/dataloader.py:558: UserWarning: This DataLoader will create 4 worker processes in total. Our suggested max number of worker in current system is 2, which is smaller than what this DataLoader is going to create. Please be aware that excessive worker creation might get DataLoader running slow or even freeze, lower the worker number to avoid potential slowness/freeze if necessary.\n",
            "  warnings.warn(_create_warning_msg(\n",
            "/usr/lib/python3.10/multiprocessing/popen_fork.py:66: RuntimeWarning: os.fork() was called. os.fork() is incompatible with multithreaded code, and JAX is multithreaded, so this will likely lead to a deadlock.\n",
            "  self.pid = os.fork()\n"
          ]
        },
        {
          "output_type": "stream",
          "name": "stdout",
          "text": [
            "-------------------------------------------------------  ------------  ------------  ------------  ------------  ------------  ------------  ------------  ------------  ------------  ------------  ------------  ------------  ------------  ------------  ------------  \n",
            "                                                   Name    Self CPU %      Self CPU   CPU total %     CPU total  CPU time avg     Self CUDA   Self CUDA %    CUDA total  CUDA time avg       CPU Mem  Self CPU Mem      CUDA Mem  Self CUDA Mem    # of Calls  Total MFLOPs  \n",
            "-------------------------------------------------------  ------------  ------------  ------------  ------------  ------------  ------------  ------------  ------------  ------------  ------------  ------------  ------------  ------------  ------------  ------------  \n",
            "autograd::engine::evaluate_function: ConvolutionBack...         0.32%     135.000us         5.56%       2.323ms     387.167us       0.000us         0.00%       6.021ms       1.004ms           0 b           0 b     -26.78 Mb     -42.84 Mb             6            --  \n",
            "                                   ConvolutionBackward0         0.32%     132.000us         5.23%       2.188ms     364.667us       0.000us         0.00%       6.021ms       1.004ms           0 b           0 b      16.06 Mb           0 b             6            --  \n",
            "                             aten::convolution_backward         2.40%       1.004ms         4.92%       2.056ms     342.667us       5.736ms        43.32%       6.021ms       1.004ms           0 b           0 b      16.06 Mb      15.84 Mb             6            --  \n",
            "                                          ProfilerStep*        51.65%      21.597ms        80.36%      33.603ms      11.201ms       0.000us         0.00%       4.528ms       1.509ms           0 b    -589.51 Kb           0 b     -93.76 Mb             3            --  \n",
            "cudnn_train_turing_scudnn_128x64_stridedB_splitK_xre...         0.00%       0.000us         0.00%       0.000us       0.000us       3.078ms        23.25%       3.078ms       1.026ms           0 b           0 b           0 b           0 b             3            --  \n",
            "                                           aten::conv2d         0.18%      77.000us         4.03%       1.684ms     280.667us       0.000us         0.00%       2.585ms     430.833us           0 b           0 b      42.84 Mb           0 b             6      4151.624  \n",
            "                                      aten::convolution         0.40%     166.000us         3.84%       1.607ms     267.833us       0.000us         0.00%       2.585ms     430.833us           0 b           0 b      42.84 Mb           0 b             6            --  \n",
            "                                     aten::_convolution         0.46%     191.000us         3.45%       1.441ms     240.167us       0.000us         0.00%       2.585ms     430.833us           0 b           0 b      42.84 Mb           0 b             6            --  \n",
            "                                aten::cudnn_convolution         1.40%     584.000us         2.20%     918.000us     153.000us       2.138ms        16.15%       2.138ms     356.333us           0 b           0 b      42.84 Mb      42.84 Mb             6            --  \n",
            "cudnn_infer_volta_scudnn_winograd_128x128_ldg1_ldg4_...         0.00%       0.000us         0.00%       0.000us       0.000us       1.927ms        14.55%       1.927ms     642.333us           0 b           0 b           0 b           0 b             3            --  \n",
            "autograd::engine::evaluate_function: MaxPool2DWithIn...         0.15%      62.000us         0.90%     378.000us     126.000us       0.000us         0.00%       1.152ms     384.000us           0 b           0 b      21.94 Mb      -5.06 Mb             3            --  \n",
            "                          MaxPool2DWithIndicesBackward0         0.12%      51.000us         0.76%     316.000us     105.333us       0.000us         0.00%       1.152ms     384.000us           0 b           0 b      27.00 Mb           0 b             3            --  \n",
            "                 aten::max_pool2d_with_indices_backward         0.27%     111.000us         0.63%     265.000us      88.333us       1.030ms         7.78%       1.152ms     384.000us           0 b           0 b      27.00 Mb      27.00 Mb             3            --  \n",
            "void at::native::(anonymous namespace)::max_pool_bac...         0.00%       0.000us         0.00%       0.000us       0.000us       1.030ms         7.78%       1.030ms     343.333us           0 b           0 b           0 b           0 b             3            --  \n",
            "                                  volta_gcgemm_32x32_tn         0.00%       0.000us         0.00%       0.000us       0.000us     884.000us         6.68%     884.000us     294.667us           0 b           0 b           0 b           0 b             3            --  \n",
            "void fft2d_r2c_32x32<float, false, 0u, false>(float2...         0.00%       0.000us         0.00%       0.000us       0.000us     674.000us         5.09%     674.000us     224.667us           0 b           0 b           0 b           0 b             3            --  \n",
            "void at::native::vectorized_elementwise_kernel<4, at...         0.00%       0.000us         0.00%       0.000us       0.000us     594.000us         4.49%     594.000us      59.400us           0 b           0 b           0 b           0 b            10            --  \n",
            "     autograd::engine::evaluate_function: ReluBackward0         0.35%     147.000us         1.81%     756.000us      84.000us       0.000us         0.00%     534.000us      59.333us           0 b           0 b     -42.94 Mb     -85.88 Mb             9            --  \n",
            "                                          ReluBackward0         0.27%     114.000us         1.46%     609.000us      67.667us       0.000us         0.00%     534.000us      59.333us           0 b           0 b      42.94 Mb           0 b             9            --  \n",
            "                               aten::threshold_backward         0.79%     330.000us         1.18%     495.000us      55.000us     534.000us         4.03%     534.000us      59.333us           0 b           0 b      42.94 Mb      42.94 Mb             9            --  \n",
            "void wgrad_alg0_engine<float, 128, 5, 5, 3, 3, 3, fa...         0.00%       0.000us         0.00%       0.000us       0.000us     488.000us         3.69%     488.000us     122.000us           0 b           0 b           0 b           0 b             4            --  \n",
            "                                             aten::add_         0.59%     248.000us         0.81%     337.000us      11.233us     447.000us         3.38%     447.000us      14.900us           0 b           0 b           0 b           0 b            30            --  \n",
            "void at::native::elementwise_kernel<128, 2, at::nati...         0.00%       0.000us         0.00%       0.000us       0.000us     447.000us         3.38%     447.000us      74.500us           0 b           0 b           0 b           0 b             6            --  \n",
            "void fft2d_c2r_32x32<float, false, false, 0u, false,...         0.00%       0.000us         0.00%       0.000us       0.000us     386.000us         2.92%     386.000us     128.667us           0 b           0 b           0 b           0 b             3            --  \n",
            "                                             aten::relu         0.49%     206.000us         1.48%     617.000us      68.556us       0.000us         0.00%     381.000us      42.333us           0 b           0 b      42.94 Mb           0 b             9            --  \n",
            "                                        aten::clamp_min         0.68%     286.000us         0.98%     411.000us      45.667us     381.000us         2.88%     381.000us      42.333us           0 b           0 b      42.94 Mb      42.94 Mb             9            --  \n",
            "void at::native::vectorized_elementwise_kernel<4, at...         0.00%       0.000us         0.00%       0.000us       0.000us     381.000us         2.88%     381.000us      42.333us           0 b           0 b           0 b           0 b             9            --  \n",
            "void at::native::reduce_kernel<512, 1, at::native::R...         0.00%       0.000us         0.00%       0.000us       0.000us     380.000us         2.87%     380.000us      47.500us           0 b           0 b           0 b           0 b             8            --  \n",
            "                                              aten::sum         1.19%     499.000us         1.74%     728.000us      60.667us     373.000us         2.82%     373.000us      31.083us           0 b           0 b       6.00 Kb       6.00 Kb            12            --  \n",
            "void at::native::(anonymous namespace)::multi_tensor...         0.00%       0.000us         0.00%       0.000us       0.000us     364.000us         2.75%     364.000us      91.000us           0 b           0 b           0 b           0 b             4            --  \n",
            "    autograd::engine::evaluate_function: AddmmBackward0         0.69%     289.000us         5.50%       2.299ms     383.167us       0.000us         0.00%     324.000us      54.000us           0 b           0 b       3.29 Mb      -1.88 Mb             6            --  \n",
            "void at::native::(anonymous namespace)::multi_tensor...         0.00%       0.000us         0.00%       0.000us       0.000us     319.000us         2.41%     319.000us      79.750us           0 b           0 b           0 b           0 b             4            --  \n",
            "void fft2d_r2c_32x32<float, false, 1u, false>(float2...         0.00%       0.000us         0.00%       0.000us       0.000us     316.000us         2.39%     316.000us     105.333us           0 b           0 b           0 b           0 b             3            --  \n",
            "                                aten::_foreach_addcdiv_         0.31%     129.000us         0.42%     176.000us      58.667us     273.000us         2.06%     273.000us      91.000us           0 b           0 b           0 b           0 b             3            --  \n",
            "                                    aten::_foreach_div_         0.23%      98.000us         0.38%     157.000us      52.333us     239.000us         1.81%     239.000us      79.667us           0 b           0 b           0 b           0 b             3            --  \n",
            "                                         AddmmBackward0         0.97%     405.000us         3.94%       1.649ms     274.833us       0.000us         0.00%     236.000us      39.333us           0 b           0 b       5.17 Mb           0 b             6            --  \n",
            "                                               aten::mm         1.45%     608.000us         2.07%     867.000us      72.250us     236.000us         1.78%     236.000us      19.667us           0 b           0 b       5.17 Mb       5.17 Mb            12       227.475  \n",
            "                                       aten::max_pool2d         0.07%      28.000us         0.55%     228.000us      76.000us       0.000us         0.00%     223.000us      74.333us           0 b           0 b       5.06 Mb           0 b             3            --  \n",
            "                          aten::max_pool2d_with_indices         0.32%     133.000us         0.48%     200.000us      66.667us     223.000us         1.68%     223.000us      74.333us           0 b           0 b       5.06 Mb       5.06 Mb             3            --  \n",
            "void at::native::(anonymous namespace)::max_pool_for...         0.00%       0.000us         0.00%       0.000us       0.000us     223.000us         1.68%     223.000us      74.333us           0 b           0 b           0 b           0 b             3            --  \n",
            "void at::native::(anonymous namespace)::multi_tensor...         0.00%       0.000us         0.00%       0.000us       0.000us     219.000us         1.65%     219.000us      54.750us           0 b           0 b           0 b           0 b             4            --  \n",
            "       cudnn_infer_volta_scudnn_128x32_relu_small_nn_v1         0.00%       0.000us         0.00%       0.000us       0.000us     187.000us         1.41%     187.000us      62.333us           0 b           0 b           0 b           0 b             3            --  \n",
            "                                           aten::linear         0.20%      83.000us         2.00%     835.000us     139.167us       0.000us         0.00%     166.000us      27.667us           0 b           0 b     103.50 Kb           0 b             6            --  \n",
            "                                            aten::addmm         1.11%     466.000us         1.52%     636.000us     106.000us     166.000us         1.25%     166.000us      27.667us           0 b           0 b     103.50 Kb     103.50 Kb             6       113.738  \n",
            "                                    aten::_foreach_sqrt         0.78%     326.000us         1.61%     675.000us     225.000us     164.000us         1.24%     164.000us      54.667us           0 b           0 b       3.61 Mb           0 b             3            --  \n",
            "void at::native::(anonymous namespace)::multi_tensor...         0.00%       0.000us         0.00%       0.000us       0.000us     142.000us         1.07%     142.000us      35.500us           0 b           0 b           0 b           0 b             4            --  \n",
            "                                            aten::fill_         0.32%     135.000us         0.74%     308.000us      34.222us     134.000us         1.01%     134.000us      14.889us           0 b           0 b           0 b           0 b             9            --  \n",
            "void at::native::vectorized_elementwise_kernel<4, at...         0.00%       0.000us         0.00%       0.000us       0.000us     134.000us         1.01%     134.000us      14.889us           0 b           0 b           0 b           0 b             9            --  \n",
            "void at::native::(anonymous namespace)::multi_tensor...         0.00%       0.000us         0.00%       0.000us       0.000us     132.000us         1.00%     132.000us      33.000us           0 b           0 b           0 b           0 b             4            --  \n",
            "                                            aten::zero_         0.15%      62.000us         0.64%     266.000us      44.333us       0.000us         0.00%     128.000us      21.333us           0 b           0 b           0 b           0 b             6            --  \n",
            "void at::native::(anonymous namespace)::multi_tensor...         0.00%       0.000us         0.00%       0.000us       0.000us     122.000us         0.92%     122.000us      30.500us           0 b           0 b           0 b           0 b             4            --  \n",
            "                                  volta_sgemm_128x32_nn         0.00%       0.000us         0.00%       0.000us       0.000us     114.000us         0.86%     114.000us      19.000us           0 b           0 b           0 b           0 b             6            --  \n",
            "                                   aten::_foreach_lerp_         0.20%      83.000us         0.40%     169.000us      56.333us     107.000us         0.81%     107.000us      35.667us           0 b           0 b           0 b           0 b             3            --  \n",
            "                                  volta_sgemm_128x32_tn         0.00%       0.000us         0.00%       0.000us       0.000us     105.000us         0.79%     105.000us      35.000us           0 b           0 b           0 b           0 b             3            --  \n",
            "                                aten::_foreach_addcmul_         0.38%     159.000us         0.50%     209.000us      69.667us      99.000us         0.75%      99.000us      33.000us           0 b           0 b           0 b           0 b             3            --  \n",
            "void at::native::(anonymous namespace)::multi_tensor...         0.00%       0.000us         0.00%       0.000us       0.000us      96.000us         0.73%      96.000us      24.000us           0 b           0 b           0 b           0 b             4            --  \n",
            "                                    aten::_foreach_mul_         0.25%     106.000us         0.37%     154.000us      51.333us      92.000us         0.69%      92.000us      30.667us           0 b           0 b           0 b           0 b             3            --  \n",
            "                                  volta_sgemm_128x32_nt         0.00%       0.000us         0.00%       0.000us       0.000us      87.000us         0.66%      87.000us      29.000us           0 b           0 b           0 b           0 b             3            --  \n",
            "                                    aten::_foreach_add_         0.49%     203.000us         0.70%     294.000us      49.000us      72.000us         0.54%      72.000us      12.000us           0 b           0 b           0 b           0 b             6            --  \n",
            "                                               aten::to         0.20%      82.000us         2.47%       1.031ms      42.958us       0.000us         0.00%      55.000us       2.292us           0 b           0 b     589.50 Kb           0 b            24            --  \n",
            "                                         aten::_to_copy         0.36%     150.000us         2.27%     949.000us     158.167us       0.000us         0.00%      55.000us       9.167us           0 b           0 b     589.50 Kb           0 b             6            --  \n",
            "                                            aten::copy_         0.25%     105.000us         1.68%     701.000us     116.833us      55.000us         0.42%      55.000us       9.167us           0 b           0 b           0 b           0 b             6            --  \n",
            "                       Memcpy HtoD (Pageable -> Device)         0.00%       0.000us         0.00%       0.000us       0.000us      55.000us         0.42%      55.000us       9.167us           0 b           0 b           0 b           0 b             6            --  \n",
            "void at::native::reduce_kernel<128, 4, at::native::R...         0.00%       0.000us         0.00%       0.000us       0.000us      46.000us         0.35%      46.000us      15.333us           0 b           0 b           0 b           0 b             3            --  \n",
            "                         volta_sgemm_32x32_sliced1x4_tn         0.00%       0.000us         0.00%       0.000us       0.000us      43.000us         0.32%      43.000us      14.333us           0 b           0 b           0 b           0 b             3            --  \n",
            "                                          aten::dropout         0.10%      41.000us         1.58%     661.000us     110.167us       0.000us         0.00%      42.000us       7.000us           0 b           0 b       2.23 Mb           0 b             6            --  \n",
            "                                   aten::native_dropout         0.67%     280.000us         1.48%     620.000us     103.333us      42.000us         0.32%      42.000us       7.000us           0 b           0 b       2.23 Mb           0 b             6            --  \n",
            "void at::native::(anonymous namespace)::fused_dropou...         0.00%       0.000us         0.00%       0.000us       0.000us      42.000us         0.32%      42.000us       7.000us           0 b           0 b           0 b           0 b             6            --  \n",
            "void at::native::reduce_kernel<256, 2, at::native::R...         0.00%       0.000us         0.00%       0.000us       0.000us      42.000us         0.32%      42.000us      14.000us           0 b           0 b           0 b           0 b             3            --  \n",
            "                         volta_sgemm_32x32_sliced1x4_nt         0.00%       0.000us         0.00%       0.000us       0.000us      35.000us         0.26%      35.000us      11.667us           0 b           0 b           0 b           0 b             3            --  \n",
            "autograd::engine::evaluate_function: NativeDropoutBa...         0.26%     108.000us         1.22%     512.000us      85.333us       0.000us         0.00%      27.000us       4.500us           0 b           0 b    -456.00 Kb      -2.23 Mb             6            --  \n",
            "                                 NativeDropoutBackward0         0.08%      35.000us         0.97%     404.000us      67.333us       0.000us         0.00%      27.000us       4.500us           0 b           0 b       1.78 Mb           0 b             6            --  \n",
            "                          aten::native_dropout_backward         0.30%     127.000us         0.88%     369.000us      61.500us      27.000us         0.20%      27.000us       4.500us           0 b           0 b       1.78 Mb           0 b             6            --  \n",
            "void at::native::vectorized_elementwise_kernel<4, at...         0.00%       0.000us         0.00%       0.000us       0.000us      27.000us         0.20%      27.000us       4.500us           0 b           0 b           0 b           0 b             6            --  \n",
            "                               aten::cross_entropy_loss         0.08%      35.000us         1.04%     435.000us     145.000us       0.000us         0.00%      24.000us       8.000us           0 b           0 b      10.50 Kb           0 b             3            --  \n",
            "void cublasLt::splitKreduce_kernel<32, 16, int, floa...         0.00%       0.000us         0.00%       0.000us       0.000us      18.000us         0.14%      18.000us       6.000us           0 b           0 b           0 b           0 b             3            --  \n",
            "autograd::engine::evaluate_function: NllLossBackward...         0.49%     206.000us         1.57%     658.000us     219.333us       0.000us         0.00%      18.000us       6.000us           0 b           0 b       6.00 Kb      -1.50 Kb             3            --  \n",
            "                                       NllLossBackward0         0.26%     109.000us         1.08%     452.000us     150.667us       0.000us         0.00%      18.000us       6.000us           0 b           0 b       7.50 Kb           0 b             3            --  \n",
            "                                aten::nll_loss_backward         0.39%     164.000us         0.82%     343.000us     114.333us      12.000us         0.09%      18.000us       6.000us           0 b           0 b       7.50 Kb       7.50 Kb             3            --  \n",
            "                                        Memset (Device)         0.00%       0.000us         0.00%       0.000us       0.000us      16.000us         0.12%      16.000us       1.600us           0 b           0 b           0 b           0 b            10            --  \n",
            "void cudnn::winograd::generateWinogradTilesKernel<0,...         0.00%       0.000us         0.00%       0.000us       0.000us      15.000us         0.11%      15.000us       5.000us           0 b           0 b           0 b           0 b             3            --  \n",
            "                                      aten::nll_loss_nd         0.03%      13.000us         0.47%     195.000us      65.000us       0.000us         0.00%      15.000us       5.000us           0 b           0 b       3.00 Kb           0 b             3            --  \n",
            "                                         aten::nll_loss         0.04%      15.000us         0.44%     182.000us      60.667us       0.000us         0.00%      15.000us       5.000us           0 b           0 b       3.00 Kb           0 b             3            --  \n",
            "                                 aten::nll_loss_forward         0.29%     120.000us         0.40%     167.000us      55.667us      15.000us         0.11%      15.000us       5.000us           0 b           0 b       3.00 Kb       3.00 Kb             3            --  \n",
            "void at::native::(anonymous namespace)::nll_loss_for...         0.00%       0.000us         0.00%       0.000us       0.000us      15.000us         0.11%      15.000us       5.000us           0 b           0 b           0 b           0 b             3            --  \n",
            "void at::native::(anonymous namespace)::nll_loss_bac...         0.00%       0.000us         0.00%       0.000us       0.000us      12.000us         0.09%      12.000us       4.000us           0 b           0 b           0 b           0 b             3            --  \n",
            "void cask_cudnn_infer::computeOffsetsKernel<false, f...         0.00%       0.000us         0.00%       0.000us       0.000us       9.000us         0.07%       9.000us       3.000us           0 b           0 b           0 b           0 b             3            --  \n",
            "                                      aten::log_softmax         0.07%      28.000us         0.49%     205.000us      68.333us       0.000us         0.00%       9.000us       3.000us           0 b           0 b       7.50 Kb           0 b             3            --  \n",
            "                                     aten::_log_softmax         0.29%     123.000us         0.42%     177.000us      59.000us       9.000us         0.07%       9.000us       3.000us           0 b           0 b       7.50 Kb       7.50 Kb             3            --  \n",
            "void (anonymous namespace)::softmax_warp_forward<flo...         0.00%       0.000us         0.00%       0.000us       0.000us       9.000us         0.07%       9.000us       3.000us           0 b           0 b           0 b           0 b             3            --  \n",
            "autograd::engine::evaluate_function: LogSoftmaxBackw...         0.14%      57.000us         0.53%     220.000us      73.333us       0.000us         0.00%       9.000us       3.000us           0 b           0 b      -7.50 Kb     -15.00 Kb             3            --  \n",
            "                                    LogSoftmaxBackward0         0.07%      28.000us         0.39%     163.000us      54.333us       0.000us         0.00%       9.000us       3.000us           0 b           0 b       7.50 Kb           0 b             3            --  \n",
            "                       aten::_log_softmax_backward_data         0.20%      82.000us         0.32%     135.000us      45.000us       9.000us         0.07%       9.000us       3.000us           0 b           0 b       7.50 Kb       7.50 Kb             3            --  \n",
            "void (anonymous namespace)::softmax_warp_backward<fl...         0.00%       0.000us         0.00%       0.000us       0.000us       9.000us         0.07%       9.000us       3.000us           0 b           0 b           0 b           0 b             3            --  \n",
            "cask_cudnn_train::computeWgradSplitKOffsetsKernel(ca...         0.00%       0.000us         0.00%       0.000us       0.000us       9.000us         0.07%       9.000us       3.000us           0 b           0 b           0 b           0 b             3            --  \n",
            "cask_cudnn_train::computeWgradBOffsetsKernel(cask_cu...         0.00%       0.000us         0.00%       0.000us       0.000us       9.000us         0.07%       9.000us       3.000us           0 b           0 b           0 b           0 b             3            --  \n",
            "                                        aten::ones_like         0.06%      24.000us         0.52%     216.000us      72.000us       0.000us         0.00%       6.000us       2.000us           0 b           0 b       1.50 Kb           0 b             3            --  \n",
            "enumerate(DataLoader)#_MultiProcessingDataLoaderIter...         9.47%       3.958ms         9.74%       4.071ms       1.357ms       0.000us         0.00%       0.000us       0.000us     589.50 Kb     589.50 Kb           0 b           0 b             3            --  \n",
            "                                            aten::empty         0.63%     262.000us         0.63%     262.000us      12.476us       0.000us         0.00%       0.000us       0.000us          12 b          12 b       2.00 Mb       2.00 Mb            21            --  \n",
            "                                       aten::lift_fresh         0.00%       0.000us         0.00%       0.000us       0.000us       0.000us         0.00%       0.000us       0.000us           0 b           0 b           0 b           0 b             9            --  \n",
            "-------------------------------------------------------  ------------  ------------  ------------  ------------  ------------  ------------  ------------  ------------  ------------  ------------  ------------  ------------  ------------  ------------  ------------  \n",
            "Self CPU time total: 41.813ms\n",
            "Self CUDA time total: 13.240ms\n",
            "\n"
          ]
        }
      ]
    },
    {
      "cell_type": "code",
      "source": [],
      "metadata": {
        "id": "gR7At3HAS3sn"
      },
      "execution_count": null,
      "outputs": []
    }
  ]
}