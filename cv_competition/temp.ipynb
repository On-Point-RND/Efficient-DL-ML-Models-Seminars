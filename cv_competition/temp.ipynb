{
 "cells": [
  {
   "cell_type": "code",
   "execution_count": 3,
   "id": "2ceb2ff7-bf06-42ec-930c-7d5c4db0484d",
   "metadata": {
    "tags": []
   },
   "outputs": [],
   "source": [
    "import os\n",
    "from PIL import Image\n",
    "from tqdm import tqdm\n",
    "\n",
    "import numpy as np"
   ]
  },
  {
   "cell_type": "code",
   "execution_count": 49,
   "id": "16201c28-fcbc-439d-a325-bb45a4592b3b",
   "metadata": {
    "tags": []
   },
   "outputs": [],
   "source": [
    "def central_crop_and_resize(input_path, output_path, resize_size):\n",
    "    # Open the image file\n",
    "    with Image.open(input_path) as img:\n",
    "        # Get the dimensions of the image\n",
    "        width, height = img.size\n",
    "        crop_size = min(width, height)\n",
    "        # Calculate the crop box\n",
    "        left = (width - crop_size) / 2\n",
    "        top = (height - crop_size) / 2\n",
    "        right = (width + crop_size) / 2\n",
    "        bottom = (height + crop_size) / 2\n",
    "\n",
    "        # Crop the image\n",
    "        img_cropped = img.crop((left, top, right, bottom))\n",
    "\n",
    "        # Resize the image\n",
    "        img_resized = img_cropped.resize((resize_size, resize_size), Image.Resampling.LANCZOS)\n",
    "\n",
    "        # Save the image as PNG\n",
    "        img_resized.save(output_path, 'PNG')\n",
    "        return img_resized"
   ]
  },
  {
   "cell_type": "code",
   "execution_count": 1,
   "id": "717b9da1-5419-40c7-ae77-da2ce6921168",
   "metadata": {
    "tags": []
   },
   "outputs": [],
   "source": [
    "def overlap_images(background_path, overlay_path):\n",
    "    # Open the background and overlay images\n",
    "    background = Image.open(background_path).convert(\"RGBA\")\n",
    "    overlay = Image.open(overlay_path).convert(\"RGBA\")\n",
    "\n",
    "    # Ensure both images have the same size\n",
    "    if background.size != overlay.size:\n",
    "        overlay = overlay.resize(background.size, Image.ANTIALIAS)\n",
    "\n",
    "    # Create a new image with the same size as the background\n",
    "    combined = Image.new(\"RGBA\", background.size)\n",
    "\n",
    "    # Paste the background image onto the new image\n",
    "    combined.paste(background, (0, 0))\n",
    "\n",
    "    # Paste the overlay image onto the new image with alpha blending\n",
    "    combined.paste(overlay, (0, 0), overlay)\n",
    "\n",
    "    # Save the combined image\n",
    "    #combined.save(output_path, 'PNG')\n",
    "    return combined\n",
    "    "
   ]
  },
  {
   "cell_type": "code",
   "execution_count": 8,
   "id": "deef4e1e-6664-4032-a7e3-5c1da60b084c",
   "metadata": {
    "tags": []
   },
   "outputs": [],
   "source": [
    "def extract_alpha_channel(img):\n",
    "    img = img.convert(\"RGBA\")\n",
    "    # Split the image into its RGBA channels\n",
    "    r, g, b, alpha = img.split()\n",
    "    return alpha"
   ]
  },
  {
   "cell_type": "code",
   "execution_count": 50,
   "id": "69cc8ed4-f071-447c-8408-3d63bfceb76d",
   "metadata": {
    "tags": []
   },
   "outputs": [
    {
     "ename": "TypeError",
     "evalue": "overlap_images() got an unexpected keyword argument 'output_path'",
     "output_type": "error",
     "traceback": [
      "\u001b[0;31m---------------------------------------------------------------------------\u001b[0m",
      "\u001b[0;31mTypeError\u001b[0m                                 Traceback (most recent call last)",
      "Cell \u001b[0;32mIn[50], line 3\u001b[0m\n\u001b[1;32m      1\u001b[0m overlay_path \u001b[38;5;241m=\u001b[39m \u001b[38;5;124m'\u001b[39m\u001b[38;5;124m./people_512x512/0051115Q_000001_0003.png\u001b[39m\u001b[38;5;124m'\u001b[39m\n\u001b[1;32m      2\u001b[0m background_path \u001b[38;5;241m=\u001b[39m \u001b[38;5;124m'\u001b[39m\u001b[38;5;124m./backgrounds_512x512/bar_interior_117.leos-oyster-bar-2.jpg\u001b[39m\u001b[38;5;124m'\u001b[39m \n\u001b[0;32m----> 3\u001b[0m \u001b[43moverlap_images\u001b[49m\u001b[43m(\u001b[49m\u001b[43mbackground_path\u001b[49m\u001b[43m,\u001b[49m\u001b[43m \u001b[49m\u001b[43moverlay_path\u001b[49m\u001b[43m,\u001b[49m\u001b[43m \u001b[49m\u001b[43moutput_path\u001b[49m\u001b[38;5;241;43m=\u001b[39;49m\u001b[38;5;124;43m'\u001b[39;49m\u001b[38;5;124;43ma\u001b[39;49m\u001b[38;5;124;43m'\u001b[39;49m\u001b[43m)\u001b[49m\n",
      "\u001b[0;31mTypeError\u001b[0m: overlap_images() got an unexpected keyword argument 'output_path'"
     ]
    }
   ],
   "source": [
    "overlay_path = './people_512x512/0051115Q_000001_0003.png'\n",
    "background_path = './backgrounds_512x512/bar_interior_117.leos-oyster-bar-2.jpg' \n",
    "overlap_images(background_path, overlay_path, output_path='a')"
   ]
  },
  {
   "cell_type": "code",
   "execution_count": 42,
   "id": "40fbea86-a1c2-42f6-8dee-0c5af73a753d",
   "metadata": {
    "tags": []
   },
   "outputs": [
    {
     "name": "stderr",
     "output_type": "stream",
     "text": [
      "100%|██████████████████████████████████████████| 100/100 [00:22<00:00,  4.48it/s]\n"
     ]
    }
   ],
   "source": [
    "path_orig = './PPM-100/image/'\n",
    "path_out = './original_512x512/'\n",
    "\n",
    "names = os.listdir(path_orig)\n",
    "files = [(os.path.join(path_orig,f),(os.path.join(path_out,f))) for f in names]\n",
    "\n",
    "for (orig, final) in tqdm(files): \n",
    "    if 'ipynb_checkpoints' in orig:\n",
    "        continue\n",
    "    central_crop_and_resize(input_path=orig, output_path=final, resize_size=512)"
   ]
  },
  {
   "cell_type": "code",
   "execution_count": 26,
   "id": "32daa5d5-2b6a-4a19-bd93-3e14c792378e",
   "metadata": {
    "tags": []
   },
   "outputs": [],
   "source": [
    "overlay_dir = './people_512x512/'\n",
    "background_dir = './backgrounds_512x512/'\n",
    "\n",
    "overlay_f = [os.path.join(overlay_dir,f) for f in  os.listdir(overlay_dir)]\n",
    "background_f = [os.path.join(background_dir,f) for f in  os.listdir(background_dir)]"
   ]
  },
  {
   "cell_type": "code",
   "execution_count": 16,
   "id": "415b8d68-0e9c-41bd-807e-5f5eff34e7e4",
   "metadata": {
    "tags": []
   },
   "outputs": [
    {
     "data": {
      "image/jpeg": "[encoded data removed]",
      "image/png": "[encoded data removed]",
      "text/plain": [
       "<PIL.Image.Image image mode=L size=512x512>"
      ]
     },
     "execution_count": 16,
     "metadata": {},
     "output_type": "execute_result"
    }
   ],
   "source": [
    "img = Image.open(overlay_f[0])\n",
    "extract_alpha_channel(img)"
   ]
  },
  {
   "cell_type": "code",
   "execution_count": 39,
   "id": "b276590c-270e-4007-bc0f-102764f89c94",
   "metadata": {},
   "outputs": [
    {
     "name": "stderr",
     "output_type": "stream",
     "text": [
      "100%|████████████████████████████████████████████| 86/86 [00:31<00:00,  2.69it/s]\n"
     ]
    }
   ],
   "source": [
    "i = 0\n",
    "\n",
    "import random\n",
    "\n",
    "for overlay in tqdm(overlay_f):\n",
    "    i+= 1\n",
    "    random.shuffle(background_f)\n",
    "    for j in range(3):\n",
    "        background = background_f[j]\n",
    "        if 'ipynb_checkpoints' in overlay or 'ipynb_checkpoints' in background:\n",
    "            continue\n",
    "        ov = Image.open(overlay)\n",
    "        back = Image.open(background)\n",
    "        alpha = extract_alpha_channel(ov)\n",
    "        overlapped = overlap_images(background, overlay)\n",
    "        name = f\"{background.split('/')[-1].split('.')[0]}_{i}\"\n",
    "        overlapped.save(os.path.join('./original_512x512',name), 'PNG')\n",
    "        alpha.save(os.path.join('./matte_512x512',name), 'PNG')"
   ]
  },
  {
   "cell_type": "code",
   "execution_count": 17,
   "id": "ed638729-cfb2-47c0-98c2-c34d71780c00",
   "metadata": {
    "tags": []
   },
   "outputs": [],
   "source": [
    "def uint8(x):\n",
    "    return x.astype(np.uint8)\n",
    "\n",
    "def one_clip(x):\n",
    "    return np.sign(x) \n",
    "\n",
    "def HardJaccard(matte_true, matte_pred):\n",
    "    return uint8(one_clip(np.array(matte_true)) != one_clip(np.array(matte_pred))).sum()\n",
    "\n",
    "def MSE(matte_true, matte_pred):\n",
    "    return ((np.array(matte_true) -  np.array(matte_pred))**2).sum()"
   ]
  },
  {
   "cell_type": "code",
   "execution_count": 18,
   "id": "6e742bbf-854f-43d6-9492-83741441d7c4",
   "metadata": {
    "tags": []
   },
   "outputs": [],
   "source": [
    "original = './validation/original_512x512'\n",
    "matte = './validation/matte_512x512'\n",
    "\n",
    "original_f = [os.path.join(original,f) for f in  os.listdir(original)]\n",
    "matte_f = [os.path.join(matte,f) for f in  os.listdir(matte)]"
   ]
  },
  {
   "cell_type": "code",
   "execution_count": 19,
   "id": "80c6b677-cefc-4ed5-bc57-8f93e4b96e3c",
   "metadata": {
    "tags": []
   },
   "outputs": [],
   "source": [
    "img_i = Image.open(original_f[0])\n",
    "img_ii = Image.open(original_f[2])"
   ]
  },
  {
   "cell_type": "code",
   "execution_count": 20,
   "id": "6be66645-21c2-4bcc-ac38-5ba090c4fb10",
   "metadata": {
    "tags": []
   },
   "outputs": [
    {
     "data": {
      "text/plain": [
       "17701"
      ]
     },
     "execution_count": 20,
     "metadata": {},
     "output_type": "execute_result"
    }
   ],
   "source": [
    "HardJaccard(img_i,img_ii)"
   ]
  },
  {
   "cell_type": "code",
   "execution_count": 16,
   "id": "c8896c9e-de79-482e-8e66-75449cf10489",
   "metadata": {
    "tags": []
   },
   "outputs": [
    {
     "data": {
      "text/plain": [
       "81731350"
      ]
     },
     "execution_count": 16,
     "metadata": {},
     "output_type": "execute_result"
    }
   ],
   "source": [
    "MSE(img_i,img_ii)"
   ]
  }
 ],
 "metadata": {
  "kernelspec": {
   "display_name": "Python 3 (ipykernel)",
   "language": "python",
   "name": "python3"
  },
  "language_info": {
   "codemirror_mode": {
    "name": "ipython",
    "version": 3
   },
   "file_extension": ".py",
   "mimetype": "text/x-python",
   "name": "python",
   "nbconvert_exporter": "python",
   "pygments_lexer": "ipython3",
   "version": "3.10.5"
  }
 },
 "nbformat": 4,
 "nbformat_minor": 5
}
